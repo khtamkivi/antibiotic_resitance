{
 "cells": [
  {
   "cell_type": "markdown",
   "metadata": {},
   "source": [
    "# 1) Explanatory data analysis"
   ]
  },
  {
   "cell_type": "markdown",
   "metadata": {},
   "source": [
    "## Importing, cleaning and transforming the data"
   ]
  },
  {
   "cell_type": "code",
   "execution_count": 2,
   "metadata": {},
   "outputs": [],
   "source": [
    "# Imports\n",
    "import pandas as pd\n",
    "import numpy as np\n",
    "import matplotlib.pyplot as plt"
   ]
  },
  {
   "cell_type": "markdown",
   "metadata": {},
   "source": [
    "### Resistance data"
   ]
  },
  {
   "cell_type": "code",
   "execution_count": 3,
   "metadata": {},
   "outputs": [],
   "source": [
    "resistance_data = pd.read_csv('antibio_dataset/resist.csv')"
   ]
  },
  {
   "cell_type": "code",
   "execution_count": 47,
   "metadata": {},
   "outputs": [
    {
     "data": {
      "text/plain": [
       "(3786, 4)"
      ]
     },
     "execution_count": 47,
     "metadata": {},
     "output_type": "execute_result"
    }
   ],
   "source": [
    "resistance_data.shape"
   ]
  },
  {
   "cell_type": "code",
   "execution_count": 5,
   "metadata": {},
   "outputs": [
    {
     "data": {
      "text/html": [
       "<div>\n",
       "<style scoped>\n",
       "    .dataframe tbody tr th:only-of-type {\n",
       "        vertical-align: middle;\n",
       "    }\n",
       "\n",
       "    .dataframe tbody tr th {\n",
       "        vertical-align: top;\n",
       "    }\n",
       "\n",
       "    .dataframe thead th {\n",
       "        text-align: right;\n",
       "    }\n",
       "</style>\n",
       "<table border=\"1\" class=\"dataframe\">\n",
       "  <thead>\n",
       "    <tr style=\"text-align: right;\">\n",
       "      <th></th>\n",
       "      <th>Sample_ID</th>\n",
       "      <th>azm_sr</th>\n",
       "      <th>cip_sr</th>\n",
       "      <th>cfx_sr</th>\n",
       "    </tr>\n",
       "  </thead>\n",
       "  <tbody>\n",
       "    <tr>\n",
       "      <th>0</th>\n",
       "      <td>ERR1549286</td>\n",
       "      <td>1.0</td>\n",
       "      <td>NaN</td>\n",
       "      <td>NaN</td>\n",
       "    </tr>\n",
       "    <tr>\n",
       "      <th>1</th>\n",
       "      <td>ERR1549290</td>\n",
       "      <td>1.0</td>\n",
       "      <td>NaN</td>\n",
       "      <td>NaN</td>\n",
       "    </tr>\n",
       "    <tr>\n",
       "      <th>2</th>\n",
       "      <td>ERR1549291</td>\n",
       "      <td>1.0</td>\n",
       "      <td>NaN</td>\n",
       "      <td>NaN</td>\n",
       "    </tr>\n",
       "    <tr>\n",
       "      <th>3</th>\n",
       "      <td>ERR1549287</td>\n",
       "      <td>1.0</td>\n",
       "      <td>NaN</td>\n",
       "      <td>NaN</td>\n",
       "    </tr>\n",
       "    <tr>\n",
       "      <th>4</th>\n",
       "      <td>ERR1549288</td>\n",
       "      <td>1.0</td>\n",
       "      <td>NaN</td>\n",
       "      <td>NaN</td>\n",
       "    </tr>\n",
       "    <tr>\n",
       "      <th>...</th>\n",
       "      <td>...</td>\n",
       "      <td>...</td>\n",
       "      <td>...</td>\n",
       "      <td>...</td>\n",
       "    </tr>\n",
       "    <tr>\n",
       "      <th>3781</th>\n",
       "      <td>ERR2172350</td>\n",
       "      <td>1.0</td>\n",
       "      <td>NaN</td>\n",
       "      <td>NaN</td>\n",
       "    </tr>\n",
       "    <tr>\n",
       "      <th>3782</th>\n",
       "      <td>ERR2172351</td>\n",
       "      <td>1.0</td>\n",
       "      <td>NaN</td>\n",
       "      <td>NaN</td>\n",
       "    </tr>\n",
       "    <tr>\n",
       "      <th>3783</th>\n",
       "      <td>ERR2172352</td>\n",
       "      <td>1.0</td>\n",
       "      <td>NaN</td>\n",
       "      <td>NaN</td>\n",
       "    </tr>\n",
       "    <tr>\n",
       "      <th>3784</th>\n",
       "      <td>ERR2172353</td>\n",
       "      <td>1.0</td>\n",
       "      <td>NaN</td>\n",
       "      <td>NaN</td>\n",
       "    </tr>\n",
       "    <tr>\n",
       "      <th>3785</th>\n",
       "      <td>ERR2172354</td>\n",
       "      <td>0.0</td>\n",
       "      <td>NaN</td>\n",
       "      <td>NaN</td>\n",
       "    </tr>\n",
       "  </tbody>\n",
       "</table>\n",
       "<p>3786 rows × 4 columns</p>\n",
       "</div>"
      ],
      "text/plain": [
       "       Sample_ID  azm_sr  cip_sr  cfx_sr\n",
       "0     ERR1549286     1.0     NaN     NaN\n",
       "1     ERR1549290     1.0     NaN     NaN\n",
       "2     ERR1549291     1.0     NaN     NaN\n",
       "3     ERR1549287     1.0     NaN     NaN\n",
       "4     ERR1549288     1.0     NaN     NaN\n",
       "...          ...     ...     ...     ...\n",
       "3781  ERR2172350     1.0     NaN     NaN\n",
       "3782  ERR2172351     1.0     NaN     NaN\n",
       "3783  ERR2172352     1.0     NaN     NaN\n",
       "3784  ERR2172353     1.0     NaN     NaN\n",
       "3785  ERR2172354     0.0     NaN     NaN\n",
       "\n",
       "[3786 rows x 4 columns]"
      ]
     },
     "execution_count": 5,
     "metadata": {},
     "output_type": "execute_result"
    }
   ],
   "source": [
    "resistance_data"
   ]
  },
  {
   "cell_type": "code",
   "execution_count": 46,
   "metadata": {},
   "outputs": [
    {
     "data": {
      "text/plain": [
       "Sample_ID     object\n",
       "azm_sr       float64\n",
       "cip_sr       float64\n",
       "cfx_sr       float64\n",
       "dtype: object"
      ]
     },
     "execution_count": 46,
     "metadata": {},
     "output_type": "execute_result"
    }
   ],
   "source": [
    "resistance_data.dtypes"
   ]
  },
  {
   "cell_type": "markdown",
   "metadata": {},
   "source": [
    "Missing values per column:"
   ]
  },
  {
   "cell_type": "code",
   "execution_count": 6,
   "metadata": {},
   "outputs": [
    {
     "data": {
      "text/plain": [
       "Sample_ID      0\n",
       "azm_sr       308\n",
       "cip_sr       698\n",
       "cfx_sr       385\n",
       "dtype: int64"
      ]
     },
     "execution_count": 6,
     "metadata": {},
     "output_type": "execute_result"
    }
   ],
   "source": [
    "resistance_data.isna().sum()"
   ]
  },
  {
   "cell_type": "markdown",
   "metadata": {},
   "source": [
    "Proportion of missing values per column:"
   ]
  },
  {
   "cell_type": "code",
   "execution_count": 7,
   "metadata": {},
   "outputs": [
    {
     "data": {
      "text/plain": [
       "Sample_ID    0.000000\n",
       "azm_sr       0.081352\n",
       "cip_sr       0.184363\n",
       "cfx_sr       0.101690\n",
       "dtype: float64"
      ]
     },
     "execution_count": 7,
     "metadata": {},
     "output_type": "execute_result"
    }
   ],
   "source": [
    "resistance_data.isna().sum() / len(resistance_data)"
   ]
  },
  {
   "cell_type": "markdown",
   "metadata": {},
   "source": [
    "Although the share of missing values per column is not significantly high, one would still aim to keep as much data points as possible for the prediction analysis. Thus imputation of missing values would be a possible step but in this case the authors hold no information about the biological similarity of the samples. Not being certain if Sample_ID string similarity would also translate into biological dimilarity between the samples, authors decided not to impute the missing values without additional similarity measures and omit the samples that have missing values from the analysis entirely."
   ]
  },
  {
   "cell_type": "code",
   "execution_count": 8,
   "metadata": {},
   "outputs": [],
   "source": [
    "azithromycin_res = resistance_data[resistance_data['azm_sr'].isna() != True][['Sample_ID','azm_sr']]\n",
    "cefixime_res = resistance_data[resistance_data['cfx_sr'].isna() != True][['Sample_ID','cfx_sr']]\n",
    "ciprofloxacin_res = resistance_data[resistance_data['cip_sr'].isna() != True][['Sample_ID','cip_sr']]"
   ]
  },
  {
   "cell_type": "code",
   "execution_count": 9,
   "metadata": {},
   "outputs": [
    {
     "name": "stdout",
     "output_type": "stream",
     "text": [
      "Azithromycin: 3478 samples\n",
      "Cefixime: 3401 samples\n",
      "Ciprofloxacin: 3088 samples\n"
     ]
    }
   ],
   "source": [
    "print(f\"Azithromycin: {azithromycin_res.shape[0]} samples\")\n",
    "print(f\"Cefixime: {cefixime_res.shape[0]} samples\")\n",
    "print(f\"Ciprofloxacin: {ciprofloxacin_res.shape[0]} samples\")"
   ]
  },
  {
   "cell_type": "markdown",
   "metadata": {},
   "source": [
    "### K-mer data"
   ]
  },
  {
   "cell_type": "code",
   "execution_count": 10,
   "metadata": {},
   "outputs": [],
   "source": [
    "kmers_azithromycin = pd.read_csv('antibio_dataset/kmers_azithromycin.tsv', sep=\"\\t\")\n",
    "kmers_cefixime = pd.read_csv('antibio_dataset/kmers_cefixime.tsv', sep=\"\\t\")\n",
    "kmers_ciprofloxacin = pd.read_csv('antibio_dataset/kmers_ciprofloxacin.tsv', sep=\"\\t\")"
   ]
  },
  {
   "cell_type": "code",
   "execution_count": 11,
   "metadata": {},
   "outputs": [
    {
     "data": {
      "text/html": [
       "<div>\n",
       "<style scoped>\n",
       "    .dataframe tbody tr th:only-of-type {\n",
       "        vertical-align: middle;\n",
       "    }\n",
       "\n",
       "    .dataframe tbody tr th {\n",
       "        vertical-align: top;\n",
       "    }\n",
       "\n",
       "    .dataframe thead th {\n",
       "        text-align: right;\n",
       "    }\n",
       "</style>\n",
       "<table border=\"1\" class=\"dataframe\">\n",
       "  <thead>\n",
       "    <tr style=\"text-align: right;\">\n",
       "      <th></th>\n",
       "      <th>pattern_id</th>\n",
       "      <th>ERR1549286</th>\n",
       "      <th>ERR1549290</th>\n",
       "      <th>ERR1549291</th>\n",
       "      <th>ERR1549287</th>\n",
       "      <th>ERR1549288</th>\n",
       "      <th>ERR1549299</th>\n",
       "      <th>ERR1549292</th>\n",
       "      <th>ERR1549298</th>\n",
       "      <th>ERR1549296</th>\n",
       "      <th>...</th>\n",
       "      <th>ERR2172345</th>\n",
       "      <th>ERR2172346</th>\n",
       "      <th>ERR2172347</th>\n",
       "      <th>ERR2172348</th>\n",
       "      <th>ERR2172349</th>\n",
       "      <th>ERR2172350</th>\n",
       "      <th>ERR2172351</th>\n",
       "      <th>ERR2172352</th>\n",
       "      <th>ERR2172353</th>\n",
       "      <th>ERR2172354</th>\n",
       "    </tr>\n",
       "  </thead>\n",
       "  <tbody>\n",
       "    <tr>\n",
       "      <th>0</th>\n",
       "      <td>CTTAACATATTTGCCTTTGATTTTTGAAGAAGCTGCCACGCCGGCAG</td>\n",
       "      <td>0</td>\n",
       "      <td>0</td>\n",
       "      <td>0</td>\n",
       "      <td>0</td>\n",
       "      <td>0</td>\n",
       "      <td>0</td>\n",
       "      <td>0</td>\n",
       "      <td>0</td>\n",
       "      <td>0</td>\n",
       "      <td>...</td>\n",
       "      <td>0</td>\n",
       "      <td>0</td>\n",
       "      <td>0</td>\n",
       "      <td>0</td>\n",
       "      <td>0</td>\n",
       "      <td>0</td>\n",
       "      <td>0</td>\n",
       "      <td>1</td>\n",
       "      <td>0</td>\n",
       "      <td>0</td>\n",
       "    </tr>\n",
       "    <tr>\n",
       "      <th>1</th>\n",
       "      <td>TACCGTAACCGGCAATGCGGATATTACGGTC</td>\n",
       "      <td>0</td>\n",
       "      <td>0</td>\n",
       "      <td>0</td>\n",
       "      <td>0</td>\n",
       "      <td>0</td>\n",
       "      <td>0</td>\n",
       "      <td>0</td>\n",
       "      <td>0</td>\n",
       "      <td>0</td>\n",
       "      <td>...</td>\n",
       "      <td>0</td>\n",
       "      <td>0</td>\n",
       "      <td>0</td>\n",
       "      <td>0</td>\n",
       "      <td>0</td>\n",
       "      <td>0</td>\n",
       "      <td>0</td>\n",
       "      <td>0</td>\n",
       "      <td>0</td>\n",
       "      <td>0</td>\n",
       "    </tr>\n",
       "    <tr>\n",
       "      <th>2</th>\n",
       "      <td>CAGACGGCATTTTTTTTGCGTTTTTCGGGAGG</td>\n",
       "      <td>0</td>\n",
       "      <td>0</td>\n",
       "      <td>0</td>\n",
       "      <td>0</td>\n",
       "      <td>0</td>\n",
       "      <td>0</td>\n",
       "      <td>0</td>\n",
       "      <td>0</td>\n",
       "      <td>0</td>\n",
       "      <td>...</td>\n",
       "      <td>0</td>\n",
       "      <td>1</td>\n",
       "      <td>0</td>\n",
       "      <td>0</td>\n",
       "      <td>0</td>\n",
       "      <td>0</td>\n",
       "      <td>0</td>\n",
       "      <td>0</td>\n",
       "      <td>0</td>\n",
       "      <td>0</td>\n",
       "    </tr>\n",
       "    <tr>\n",
       "      <th>3</th>\n",
       "      <td>AACGGGTTTTCAGACGGCATTCGATATCGGGACG</td>\n",
       "      <td>0</td>\n",
       "      <td>0</td>\n",
       "      <td>0</td>\n",
       "      <td>0</td>\n",
       "      <td>0</td>\n",
       "      <td>0</td>\n",
       "      <td>0</td>\n",
       "      <td>0</td>\n",
       "      <td>0</td>\n",
       "      <td>...</td>\n",
       "      <td>0</td>\n",
       "      <td>0</td>\n",
       "      <td>0</td>\n",
       "      <td>0</td>\n",
       "      <td>0</td>\n",
       "      <td>0</td>\n",
       "      <td>0</td>\n",
       "      <td>0</td>\n",
       "      <td>0</td>\n",
       "      <td>0</td>\n",
       "    </tr>\n",
       "    <tr>\n",
       "      <th>4</th>\n",
       "      <td>CCAAAAATTACCCGCGTTGACGTAGCTAAAGA</td>\n",
       "      <td>0</td>\n",
       "      <td>0</td>\n",
       "      <td>0</td>\n",
       "      <td>0</td>\n",
       "      <td>0</td>\n",
       "      <td>0</td>\n",
       "      <td>0</td>\n",
       "      <td>0</td>\n",
       "      <td>0</td>\n",
       "      <td>...</td>\n",
       "      <td>0</td>\n",
       "      <td>0</td>\n",
       "      <td>0</td>\n",
       "      <td>0</td>\n",
       "      <td>0</td>\n",
       "      <td>0</td>\n",
       "      <td>0</td>\n",
       "      <td>0</td>\n",
       "      <td>0</td>\n",
       "      <td>0</td>\n",
       "    </tr>\n",
       "  </tbody>\n",
       "</table>\n",
       "<p>5 rows × 3972 columns</p>\n",
       "</div>"
      ],
      "text/plain": [
       "                                        pattern_id  ERR1549286  ERR1549290  \\\n",
       "0  CTTAACATATTTGCCTTTGATTTTTGAAGAAGCTGCCACGCCGGCAG           0           0   \n",
       "1                  TACCGTAACCGGCAATGCGGATATTACGGTC           0           0   \n",
       "2                 CAGACGGCATTTTTTTTGCGTTTTTCGGGAGG           0           0   \n",
       "3               AACGGGTTTTCAGACGGCATTCGATATCGGGACG           0           0   \n",
       "4                 CCAAAAATTACCCGCGTTGACGTAGCTAAAGA           0           0   \n",
       "\n",
       "   ERR1549291  ERR1549287  ERR1549288  ERR1549299  ERR1549292  ERR1549298  \\\n",
       "0           0           0           0           0           0           0   \n",
       "1           0           0           0           0           0           0   \n",
       "2           0           0           0           0           0           0   \n",
       "3           0           0           0           0           0           0   \n",
       "4           0           0           0           0           0           0   \n",
       "\n",
       "   ERR1549296  ...  ERR2172345  ERR2172346  ERR2172347  ERR2172348  \\\n",
       "0           0  ...           0           0           0           0   \n",
       "1           0  ...           0           0           0           0   \n",
       "2           0  ...           0           1           0           0   \n",
       "3           0  ...           0           0           0           0   \n",
       "4           0  ...           0           0           0           0   \n",
       "\n",
       "   ERR2172349  ERR2172350  ERR2172351  ERR2172352  ERR2172353  ERR2172354  \n",
       "0           0           0           0           1           0           0  \n",
       "1           0           0           0           0           0           0  \n",
       "2           0           0           0           0           0           0  \n",
       "3           0           0           0           0           0           0  \n",
       "4           0           0           0           0           0           0  \n",
       "\n",
       "[5 rows x 3972 columns]"
      ]
     },
     "execution_count": 11,
     "metadata": {},
     "output_type": "execute_result"
    }
   ],
   "source": [
    "kmers_azithromycin.head()"
   ]
  },
  {
   "cell_type": "markdown",
   "metadata": {},
   "source": [
    "In order to merge the information of the resistance data tables and k-mer data tables, the k-mer tables need to be transposed (sample IDs in rows and patterns in columns)."
   ]
  },
  {
   "cell_type": "code",
   "execution_count": 12,
   "metadata": {},
   "outputs": [],
   "source": [
    "# Azithromycin\n",
    "\n",
    "kmers_azithromycin = kmers_azithromycin.transpose()\n",
    "\n",
    "# Making the first row of the transposed DataFrame as column headers\n",
    "new_header = kmers_azithromycin.iloc[0]\n",
    "kmers_azithromycin = kmers_azithromycin[1:] \n",
    "kmers_azithromycin.columns = new_header\n",
    "\n",
    "# Making the structure of column names similar to the structure of resistance tables\n",
    "kmers_azithromycin = kmers_azithromycin.reset_index()\n",
    "kmers_azithromycin = kmers_azithromycin.rename(columns={'index': 'Sample_ID'})\n",
    "kmers_azithromycin.index.name = None"
   ]
  },
  {
   "cell_type": "code",
   "execution_count": 13,
   "metadata": {},
   "outputs": [],
   "source": [
    "# Cefixime\n",
    "\n",
    "kmers_cefixime = kmers_cefixime.transpose()\n",
    "\n",
    "# Making the first row of the transposed DataFrame as column headers\n",
    "new_header = kmers_cefixime.iloc[0]\n",
    "kmers_cefixime = kmers_cefixime[1:] \n",
    "kmers_cefixime.columns = new_header\n",
    "\n",
    "# Making the structure of column names similar to the structure of resistance tables\n",
    "kmers_cefixime = kmers_cefixime.reset_index()\n",
    "kmers_cefixime = kmers_cefixime.rename(columns={'index': 'Sample_ID'})\n",
    "kmers_cefixime.index.name = None"
   ]
  },
  {
   "cell_type": "code",
   "execution_count": 14,
   "metadata": {},
   "outputs": [],
   "source": [
    "# Ciprofloxacin\n",
    "\n",
    "kmers_ciprofloxacin = kmers_ciprofloxacin.transpose()\n",
    "\n",
    "# Making the first row of the transposed DataFrame as column headers\n",
    "new_header = kmers_ciprofloxacin.iloc[0]\n",
    "kmers_ciprofloxacin = kmers_ciprofloxacin[1:] \n",
    "kmers_ciprofloxacin.columns = new_header\n",
    "\n",
    "# Making the structure of column names similar to the structure of resistance tables\n",
    "kmers_ciprofloxacin = kmers_ciprofloxacin.reset_index()\n",
    "kmers_ciprofloxacin = kmers_ciprofloxacin.rename(columns={'index': 'Sample_ID'})\n",
    "kmers_ciprofloxacin.index.name = None"
   ]
  },
  {
   "cell_type": "markdown",
   "metadata": {},
   "source": [
    "## Merging the data"
   ]
  },
  {
   "cell_type": "code",
   "execution_count": 15,
   "metadata": {},
   "outputs": [],
   "source": [
    "azithromycin_data = kmers_azithromycin.merge(azithromycin_res, how = 'right', on = 'Sample_ID')\n",
    "cefixime_data = kmers_cefixime.merge(cefixime_res, how = 'right', on = 'Sample_ID')\n",
    "ciprofloxacin_data = kmers_ciprofloxacin.merge(ciprofloxacin_res, how = 'right', on = 'Sample_ID')"
   ]
  },
  {
   "cell_type": "code",
   "execution_count": 18,
   "metadata": {},
   "outputs": [
    {
     "name": "stdout",
     "output_type": "stream",
     "text": [
      "Shape of azithromycin data: (3478, 517)\n",
      "Shape of cefixime data: (3401, 386)\n",
      "Shape of ciprofloxacin data: (3088, 8875)\n"
     ]
    }
   ],
   "source": [
    "print(\"Shape of azithromycin data:\", azithromycin_data.shape)\n",
    "print(\"Shape of cefixime data:\", cefixime_data.shape)\n",
    "print(\"Shape of ciprofloxacin data:\", ciprofloxacin_data.shape)"
   ]
  },
  {
   "cell_type": "code",
   "execution_count": 19,
   "metadata": {},
   "outputs": [
    {
     "data": {
      "text/html": [
       "<div>\n",
       "<style scoped>\n",
       "    .dataframe tbody tr th:only-of-type {\n",
       "        vertical-align: middle;\n",
       "    }\n",
       "\n",
       "    .dataframe tbody tr th {\n",
       "        vertical-align: top;\n",
       "    }\n",
       "\n",
       "    .dataframe thead th {\n",
       "        text-align: right;\n",
       "    }\n",
       "</style>\n",
       "<table border=\"1\" class=\"dataframe\">\n",
       "  <thead>\n",
       "    <tr style=\"text-align: right;\">\n",
       "      <th></th>\n",
       "      <th>Sample_ID</th>\n",
       "      <th>CTTAACATATTTGCCTTTGATTTTTGAAGAAGCTGCCACGCCGGCAG</th>\n",
       "      <th>TACCGTAACCGGCAATGCGGATATTACGGTC</th>\n",
       "      <th>CAGACGGCATTTTTTTTGCGTTTTTCGGGAGG</th>\n",
       "      <th>AACGGGTTTTCAGACGGCATTCGATATCGGGACG</th>\n",
       "      <th>CCAAAAATTACCCGCGTTGACGTAGCTAAAGA</th>\n",
       "      <th>CGGACCGGTATTCCGTCGAAATCACCGCCGTCAACCGCCCC</th>\n",
       "      <th>TGAAATTGTCCATCTCGTATGCCGTCTTCTGCTTG</th>\n",
       "      <th>TACGGTATTGTCCGCATTATTAAACTCAAAACC,AGAAGACGGCATACGAGATGGACAATTTCATCC</th>\n",
       "      <th>GGCATTTTTTTTGCGTTTTTCGGGAGGGGGCGGC</th>\n",
       "      <th>...</th>\n",
       "      <th>CTGCTGGACAAAAAAGGGATTAAAGATATCACC</th>\n",
       "      <th>CGTTCCTTTCGGCGTATTCTCGCCGTTGCGCGGCG</th>\n",
       "      <th>TCACATTTCCGCTTCAGACGGCATCCGATATGA</th>\n",
       "      <th>GAAGCTGCCACGCCGGCAGAAGTGTTGTTTGCGGG</th>\n",
       "      <th>ACGCCGAAAGGAACGTGTATGCTGCCGCCCAACTGCG</th>\n",
       "      <th>ACTCGAATTTTGCAGGATTGGTATCAATGGCGATAATGCGACCGGCTTTGG</th>\n",
       "      <th>ACCCGGCCCGGGCTGGCAGGCTACGGCTACACCGGTATCC,CACCTTAGGGAATCGTTCCCTTTGGGCCGGG,TACGCCGAAAGGAACGTGTATGCTGCCGCCC,GGGATTGTTGATTGTCGGACTGTTGTGCAACCTC</th>\n",
       "      <th>AGCCTGATTCACCAATGGTTTGTTCATAACAA</th>\n",
       "      <th>TTTTGAGCAGAAAGCAGTCAAAAACAGGGGGATTTTGCCCTTTTGACAGGTTCGAGTGCCG</th>\n",
       "      <th>azm_sr</th>\n",
       "    </tr>\n",
       "  </thead>\n",
       "  <tbody>\n",
       "    <tr>\n",
       "      <th>0</th>\n",
       "      <td>ERR1549286</td>\n",
       "      <td>0</td>\n",
       "      <td>0</td>\n",
       "      <td>0</td>\n",
       "      <td>0</td>\n",
       "      <td>0</td>\n",
       "      <td>0</td>\n",
       "      <td>0</td>\n",
       "      <td>0</td>\n",
       "      <td>0</td>\n",
       "      <td>...</td>\n",
       "      <td>1</td>\n",
       "      <td>1</td>\n",
       "      <td>1</td>\n",
       "      <td>1</td>\n",
       "      <td>1</td>\n",
       "      <td>1</td>\n",
       "      <td>1</td>\n",
       "      <td>1</td>\n",
       "      <td>1</td>\n",
       "      <td>1.0</td>\n",
       "    </tr>\n",
       "    <tr>\n",
       "      <th>1</th>\n",
       "      <td>ERR1549290</td>\n",
       "      <td>0</td>\n",
       "      <td>0</td>\n",
       "      <td>0</td>\n",
       "      <td>0</td>\n",
       "      <td>0</td>\n",
       "      <td>0</td>\n",
       "      <td>0</td>\n",
       "      <td>0</td>\n",
       "      <td>0</td>\n",
       "      <td>...</td>\n",
       "      <td>1</td>\n",
       "      <td>1</td>\n",
       "      <td>1</td>\n",
       "      <td>1</td>\n",
       "      <td>1</td>\n",
       "      <td>1</td>\n",
       "      <td>1</td>\n",
       "      <td>1</td>\n",
       "      <td>1</td>\n",
       "      <td>1.0</td>\n",
       "    </tr>\n",
       "    <tr>\n",
       "      <th>2</th>\n",
       "      <td>ERR1549291</td>\n",
       "      <td>0</td>\n",
       "      <td>0</td>\n",
       "      <td>0</td>\n",
       "      <td>0</td>\n",
       "      <td>0</td>\n",
       "      <td>0</td>\n",
       "      <td>0</td>\n",
       "      <td>0</td>\n",
       "      <td>0</td>\n",
       "      <td>...</td>\n",
       "      <td>1</td>\n",
       "      <td>1</td>\n",
       "      <td>1</td>\n",
       "      <td>1</td>\n",
       "      <td>1</td>\n",
       "      <td>1</td>\n",
       "      <td>1</td>\n",
       "      <td>1</td>\n",
       "      <td>1</td>\n",
       "      <td>1.0</td>\n",
       "    </tr>\n",
       "    <tr>\n",
       "      <th>3</th>\n",
       "      <td>ERR1549287</td>\n",
       "      <td>0</td>\n",
       "      <td>0</td>\n",
       "      <td>0</td>\n",
       "      <td>0</td>\n",
       "      <td>0</td>\n",
       "      <td>0</td>\n",
       "      <td>0</td>\n",
       "      <td>0</td>\n",
       "      <td>0</td>\n",
       "      <td>...</td>\n",
       "      <td>1</td>\n",
       "      <td>1</td>\n",
       "      <td>1</td>\n",
       "      <td>1</td>\n",
       "      <td>1</td>\n",
       "      <td>1</td>\n",
       "      <td>1</td>\n",
       "      <td>1</td>\n",
       "      <td>1</td>\n",
       "      <td>1.0</td>\n",
       "    </tr>\n",
       "    <tr>\n",
       "      <th>4</th>\n",
       "      <td>ERR1549288</td>\n",
       "      <td>0</td>\n",
       "      <td>0</td>\n",
       "      <td>0</td>\n",
       "      <td>0</td>\n",
       "      <td>0</td>\n",
       "      <td>0</td>\n",
       "      <td>0</td>\n",
       "      <td>0</td>\n",
       "      <td>0</td>\n",
       "      <td>...</td>\n",
       "      <td>1</td>\n",
       "      <td>1</td>\n",
       "      <td>1</td>\n",
       "      <td>1</td>\n",
       "      <td>1</td>\n",
       "      <td>1</td>\n",
       "      <td>1</td>\n",
       "      <td>1</td>\n",
       "      <td>1</td>\n",
       "      <td>1.0</td>\n",
       "    </tr>\n",
       "  </tbody>\n",
       "</table>\n",
       "<p>5 rows × 517 columns</p>\n",
       "</div>"
      ],
      "text/plain": [
       "    Sample_ID CTTAACATATTTGCCTTTGATTTTTGAAGAAGCTGCCACGCCGGCAG  \\\n",
       "0  ERR1549286                                               0   \n",
       "1  ERR1549290                                               0   \n",
       "2  ERR1549291                                               0   \n",
       "3  ERR1549287                                               0   \n",
       "4  ERR1549288                                               0   \n",
       "\n",
       "  TACCGTAACCGGCAATGCGGATATTACGGTC CAGACGGCATTTTTTTTGCGTTTTTCGGGAGG  \\\n",
       "0                               0                                0   \n",
       "1                               0                                0   \n",
       "2                               0                                0   \n",
       "3                               0                                0   \n",
       "4                               0                                0   \n",
       "\n",
       "  AACGGGTTTTCAGACGGCATTCGATATCGGGACG CCAAAAATTACCCGCGTTGACGTAGCTAAAGA  \\\n",
       "0                                  0                                0   \n",
       "1                                  0                                0   \n",
       "2                                  0                                0   \n",
       "3                                  0                                0   \n",
       "4                                  0                                0   \n",
       "\n",
       "  CGGACCGGTATTCCGTCGAAATCACCGCCGTCAACCGCCCC  \\\n",
       "0                                         0   \n",
       "1                                         0   \n",
       "2                                         0   \n",
       "3                                         0   \n",
       "4                                         0   \n",
       "\n",
       "  TGAAATTGTCCATCTCGTATGCCGTCTTCTGCTTG  \\\n",
       "0                                   0   \n",
       "1                                   0   \n",
       "2                                   0   \n",
       "3                                   0   \n",
       "4                                   0   \n",
       "\n",
       "  TACGGTATTGTCCGCATTATTAAACTCAAAACC,AGAAGACGGCATACGAGATGGACAATTTCATCC  \\\n",
       "0                                                  0                    \n",
       "1                                                  0                    \n",
       "2                                                  0                    \n",
       "3                                                  0                    \n",
       "4                                                  0                    \n",
       "\n",
       "  GGCATTTTTTTTGCGTTTTTCGGGAGGGGGCGGC  ... CTGCTGGACAAAAAAGGGATTAAAGATATCACC  \\\n",
       "0                                  0  ...                                 1   \n",
       "1                                  0  ...                                 1   \n",
       "2                                  0  ...                                 1   \n",
       "3                                  0  ...                                 1   \n",
       "4                                  0  ...                                 1   \n",
       "\n",
       "  CGTTCCTTTCGGCGTATTCTCGCCGTTGCGCGGCG TCACATTTCCGCTTCAGACGGCATCCGATATGA  \\\n",
       "0                                   1                                 1   \n",
       "1                                   1                                 1   \n",
       "2                                   1                                 1   \n",
       "3                                   1                                 1   \n",
       "4                                   1                                 1   \n",
       "\n",
       "  GAAGCTGCCACGCCGGCAGAAGTGTTGTTTGCGGG ACGCCGAAAGGAACGTGTATGCTGCCGCCCAACTGCG  \\\n",
       "0                                   1                                     1   \n",
       "1                                   1                                     1   \n",
       "2                                   1                                     1   \n",
       "3                                   1                                     1   \n",
       "4                                   1                                     1   \n",
       "\n",
       "  ACTCGAATTTTGCAGGATTGGTATCAATGGCGATAATGCGACCGGCTTTGG  \\\n",
       "0                                                  1    \n",
       "1                                                  1    \n",
       "2                                                  1    \n",
       "3                                                  1    \n",
       "4                                                  1    \n",
       "\n",
       "  ACCCGGCCCGGGCTGGCAGGCTACGGCTACACCGGTATCC,CACCTTAGGGAATCGTTCCCTTTGGGCCGGG,TACGCCGAAAGGAACGTGTATGCTGCCGCCC,GGGATTGTTGATTGTCGGACTGTTGTGCAACCTC  \\\n",
       "0                                                  1                                                                                            \n",
       "1                                                  1                                                                                            \n",
       "2                                                  1                                                                                            \n",
       "3                                                  1                                                                                            \n",
       "4                                                  1                                                                                            \n",
       "\n",
       "  AGCCTGATTCACCAATGGTTTGTTCATAACAA  \\\n",
       "0                                1   \n",
       "1                                1   \n",
       "2                                1   \n",
       "3                                1   \n",
       "4                                1   \n",
       "\n",
       "  TTTTGAGCAGAAAGCAGTCAAAAACAGGGGGATTTTGCCCTTTTGACAGGTTCGAGTGCCG azm_sr  \n",
       "0                                                  1               1.0  \n",
       "1                                                  1               1.0  \n",
       "2                                                  1               1.0  \n",
       "3                                                  1               1.0  \n",
       "4                                                  1               1.0  \n",
       "\n",
       "[5 rows x 517 columns]"
      ]
     },
     "execution_count": 19,
     "metadata": {},
     "output_type": "execute_result"
    }
   ],
   "source": [
    "azithromycin_data.head()"
   ]
  },
  {
   "cell_type": "markdown",
   "metadata": {},
   "source": [
    "## Visualising the frequency of different k-mers"
   ]
  },
  {
   "cell_type": "code",
   "execution_count": 16,
   "metadata": {},
   "outputs": [],
   "source": [
    "azithromycin_column_sums = np.sum(azithromycin_data.iloc[:,1:-1], axis=0)\n",
    "cefixime_column_sums = np.sum(cefixime_data.iloc[:,1:-1], axis=0)\n",
    "ciprofloxacin_column_sums = np.sum(ciprofloxacin_data.iloc[:,1:-1], axis=0)"
   ]
  },
  {
   "cell_type": "code",
   "execution_count": 17,
   "metadata": {},
   "outputs": [
    {
     "data": {
      "image/png": "[encoded data removed]",
      "text/plain": [
       "<Figure size 720x1080 with 3 Axes>"
      ]
     },
     "metadata": {
      "needs_background": "light"
     },
     "output_type": "display_data"
    }
   ],
   "source": [
    "# Plotting histograms\n",
    "fig, axs = plt.subplots(3, 1, figsize=(10, 15))\n",
    "\n",
    "axs[0].bar(azithromycin_data.iloc[:,1:-1].columns , azithromycin_column_sums, color = 'black')\n",
    "axs[0].set_title(f'Azithromycin Column Sums\\n(max_N = {len(azithromycin_data)})')\n",
    "axs[0].set_xlabel('K-mers')\n",
    "axs[0].set_ylabel('Frequency')\n",
    "axs[0].grid(axis='y', alpha=0.75)\n",
    "axs[0].tick_params(axis='x', labelbottom=False)\n",
    "\n",
    "axs[1].bar(cefixime_data.iloc[:,1:-1].columns , cefixime_column_sums, color = 'black')\n",
    "axs[1].set_title(f'Cefixime Column Sums\\n(max_N = {len(cefixime_data)})')\n",
    "axs[1].set_xlabel('K-mers')\n",
    "axs[1].set_ylabel('Frequency')\n",
    "axs[1].grid(axis='y', alpha=0.75)\n",
    "axs[1].tick_params(axis='x', labelbottom=False)\n",
    "\n",
    "axs[2].bar(ciprofloxacin_data.iloc[:,1:-1].columns , ciprofloxacin_column_sums, color = 'black')\n",
    "axs[2].set_title(f'Ciprofloxacin Column Sums\\n(max_N = {len(ciprofloxacin_data)})')\n",
    "axs[2].set_xlabel('K-mers')\n",
    "axs[2].set_ylabel('Frequency')\n",
    "axs[2].grid(axis='y', alpha=0.75)\n",
    "axs[2].tick_params(axis='x', labelbottom=False)\n",
    "\n",
    "plt.tight_layout()\n",
    "plt.show()"
   ]
  },
  {
   "cell_type": "markdown",
   "metadata": {},
   "source": [
    "There are k-mers that appear in almost all samples, and there are kmers that appear in almost none of them. We will use this finding for the feature selection part."
   ]
  },
  {
   "cell_type": "markdown",
   "metadata": {},
   "source": [
    "## Checking class balance"
   ]
  },
  {
   "cell_type": "code",
   "execution_count": 50,
   "metadata": {},
   "outputs": [
    {
     "data": {
      "image/png": "[encoded data removed]",
      "text/plain": [
       "<Figure size 432x288 with 1 Axes>"
      ]
     },
     "metadata": {
      "needs_background": "light"
     },
     "output_type": "display_data"
    }
   ],
   "source": [
    "# Azithromycin\n",
    "azithromycin_data.iloc[:, -1].value_counts(normalize=True).plot(kind='bar', color=['green', 'red'])\n",
    "plt.title('Azithromycin Resistance Class Balance')\n",
    "plt.xlabel('Resistance')\n",
    "plt.ylabel('Percentage')\n",
    "plt.show()"
   ]
  },
  {
   "cell_type": "code",
   "execution_count": 51,
   "metadata": {},
   "outputs": [
    {
     "data": {
      "image/png": "[encoded data removed]",
      "text/plain": [
       "<Figure size 432x288 with 1 Axes>"
      ]
     },
     "metadata": {
      "needs_background": "light"
     },
     "output_type": "display_data"
    }
   ],
   "source": [
    "# Cefixime\n",
    "cefixime_data.iloc[:, -1].value_counts(normalize=True).plot(kind='bar', color=['green', 'red'])\n",
    "plt.title('Cefixime Resistance Class Balance')\n",
    "plt.xlabel('Resistance')\n",
    "plt.ylabel('Percentage')\n",
    "plt.show()"
   ]
  },
  {
   "cell_type": "code",
   "execution_count": 52,
   "metadata": {},
   "outputs": [
    {
     "data": {
      "image/png": "[encoded data removed]",
      "text/plain": [
       "<Figure size 432x288 with 1 Axes>"
      ]
     },
     "metadata": {
      "needs_background": "light"
     },
     "output_type": "display_data"
    }
   ],
   "source": [
    "# Ciprofloxacin\n",
    "ciprofloxacin_data.iloc[:, -1].value_counts(normalize=True).plot(kind='bar', color=['green', 'red'])\n",
    "plt.title('Ciprofloxacin Resistance Class Balance')\n",
    "plt.xlabel('Resistance')\n",
    "plt.ylabel('Percentage')\n",
    "plt.show()"
   ]
  },
  {
   "cell_type": "markdown",
   "metadata": {},
   "source": [
    "We can observe, that the data for Azithromycin and Cefixime is very imbalanced. We will need to take this into consideration for model selection."
   ]
  },
  {
   "cell_type": "markdown",
   "metadata": {},
   "source": [
    "# 2) Feature selection"
   ]
  },
  {
   "cell_type": "markdown",
   "metadata": {},
   "source": [
    "First we split the data into the feature matrix and target vector."
   ]
  },
  {
   "cell_type": "code",
   "execution_count": 43,
   "metadata": {},
   "outputs": [],
   "source": [
    "X_azithromycin = azithromycin_data.iloc[:, :-1] \n",
    "y_azithromycin = azithromycin_data.iloc[:, -1]\n",
    "\n",
    "X_cefixime = cefixime_data.iloc[:, :-1]\n",
    "y_cefixime = cefixime_data.iloc[:, -1]\n",
    "\n",
    "X_ciprofloxacin = ciprofloxacin_data.iloc[:, :-1]\n",
    "y_ciprofloxacin = ciprofloxacin_data.iloc[:, -1]"
   ]
  },
  {
   "cell_type": "markdown",
   "metadata": {},
   "source": [
    "We only keep the k-mers that are not present or absent in almost all samples."
   ]
  },
  {
   "cell_type": "code",
   "execution_count": 44,
   "metadata": {},
   "outputs": [],
   "source": [
    "# Function that deletes columns corresponding to k-mers that appear in more than l% or less than u% of the samples\n",
    "def delete_columns(df, u, l):\n",
    "    cols_to_remove = []\n",
    "    for col in df.columns[1:]:\n",
    "        col_sum = df[col].sum()\n",
    "        if (col_sum > (len(df) * u)) | (col_sum < (len(df) * l)): \n",
    "            cols_to_remove.append(col)\n",
    "    df_selected = df.drop(columns=cols_to_remove)\n",
    "    return df_selected"
   ]
  },
  {
   "cell_type": "code",
   "execution_count": 45,
   "metadata": {},
   "outputs": [],
   "source": [
    "X_azithromycin_selected = delete_columns(X_azithromycin, 0.95, 0.05)\n",
    "X_cefixime_selected = delete_columns(X_cefixime, 0.95, 0.05)\n",
    "X_ciprofloxacin_selected = delete_columns(X_ciprofloxacin, 0.8, 0.2)"
   ]
  },
  {
   "cell_type": "markdown",
   "metadata": {},
   "source": [
    "# 3) Model selection"
   ]
  },
  {
   "cell_type": "markdown",
   "metadata": {},
   "source": [
    "First we split the data intro train and test sets."
   ]
  },
  {
   "cell_type": "code",
   "execution_count": 53,
   "metadata": {},
   "outputs": [],
   "source": [
    "import pandas as pd\n",
    "from sklearn.model_selection import train_test_split\n",
    "\n",
    "# Split the data into train and test sets\n",
    "X_train_azithromycin, X_test_azithromycin, y_train_azithromycin, y_test_azithromycin = train_test_split(X_azithromycin_selected.iloc[:, 1:], y_azithromycin, test_size=0.3, random_state=42)\n",
    "X_train_cefixime, X_test_cefixime, y_train_cefixime, y_test_cefixime = train_test_split(X_cefixime_selected.iloc[:, 1:], y_cefixime, test_size=0.3, random_state=42)\n",
    "X_train_ciprofloxacin, X_test_ciprofloxacin, y_train_ciprofloxacin, y_test_ciprofloxacin = train_test_split(X_ciprofloxacin_selected.iloc[:, 1:], y_ciprofloxacin, test_size=0.3, random_state=42)"
   ]
  },
  {
   "cell_type": "markdown",
   "metadata": {},
   "source": [
    "## Linear SVM"
   ]
  },
  {
   "cell_type": "markdown",
   "metadata": {},
   "source": [
    "#### Azithromycin"
   ]
  },
  {
   "cell_type": "code",
   "execution_count": 54,
   "metadata": {},
   "outputs": [
    {
     "name": "stdout",
     "output_type": "stream",
     "text": [
      "Accuray on training set: 0.9753492193919474 \n",
      "Accuray on test set: 0.9636015325670498 \n"
     ]
    }
   ],
   "source": [
    "from sklearn.svm import SVC\n",
    "from sklearn.metrics import accuracy_score as acc\n",
    "model = SVC(kernel='linear')\n",
    "model.fit(X_train_azithromycin, y_train_azithromycin)\n",
    "y_pred_train_azithromycin = model.predict(X_train_azithromycin)\n",
    "y_pred_test_azithromycin = model.predict(X_test_azithromycin)\n",
    "accuracy_train = acc(y_pred_train_azithromycin, y_train_azithromycin)\n",
    "accuracy_test = acc(y_pred_test_azithromycin, y_test_azithromycin)\n",
    "print(f\"Accuray on training set: {accuracy_train} \")\n",
    "print(f\"Accuray on test set: {accuracy_test} \")"
   ]
  },
  {
   "cell_type": "markdown",
   "metadata": {},
   "source": [
    "#### Cefixime"
   ]
  },
  {
   "cell_type": "code",
   "execution_count": 56,
   "metadata": {},
   "outputs": [
    {
     "name": "stdout",
     "output_type": "stream",
     "text": [
      "Accuray on training set: 0.9983193277310924 \n",
      "Accuray on test set: 0.9990205680705191 \n"
     ]
    }
   ],
   "source": [
    "model = SVC(kernel='linear')\n",
    "model.fit(X_train_cefixime, y_train_cefixime)\n",
    "y_pred_train_cefixime = model.predict(X_train_cefixime)\n",
    "y_pred_test_cefixime = model.predict(X_test_cefixime)\n",
    "accuracy_train = acc(y_pred_train_cefixime, y_train_cefixime)\n",
    "accuracy_test = acc(y_pred_test_cefixime, y_test_cefixime)\n",
    "print(f\"Accuray on training set: {accuracy_train} \")\n",
    "print(f\"Accuray on test set: {accuracy_test} \")"
   ]
  },
  {
   "cell_type": "markdown",
   "metadata": {},
   "source": [
    "#### Ciprofloxacin"
   ]
  },
  {
   "cell_type": "code",
   "execution_count": 57,
   "metadata": {},
   "outputs": [
    {
     "name": "stdout",
     "output_type": "stream",
     "text": [
      "Accuray on training set: 0.999537251272559 \n",
      "Accuray on test set: 0.9546925566343042 \n"
     ]
    }
   ],
   "source": [
    "model = SVC(kernel='linear')\n",
    "model.fit(X_train_ciprofloxacin, y_train_ciprofloxacin)\n",
    "y_pred_train_ciprofloxacin = model.predict(X_train_ciprofloxacin)\n",
    "y_pred_test_ciprofloxacin = model.predict(X_test_ciprofloxacin)\n",
    "accuracy_train = acc(y_pred_train_ciprofloxacin, y_train_ciprofloxacin)\n",
    "accuracy_test = acc(y_pred_test_ciprofloxacin, y_test_ciprofloxacin)\n",
    "print(f\"Accuray on training set: {accuracy_train} \")\n",
    "print(f\"Accuray on test set: {accuracy_test} \")"
   ]
  },
  {
   "cell_type": "markdown",
   "metadata": {},
   "source": [
    "# 4) Performance evaluation"
   ]
  },
  {
   "cell_type": "code",
   "execution_count": null,
   "metadata": {},
   "outputs": [],
   "source": []
  }
 ],
 "metadata": {
  "kernelspec": {
   "display_name": "Python 3",
   "language": "python",
   "name": "python3"
  },
  "language_info": {
   "codemirror_mode": {
    "name": "ipython",
    "version": 3
   },
   "file_extension": ".py",
   "mimetype": "text/x-python",
   "name": "python",
   "nbconvert_exporter": "python",
   "pygments_lexer": "ipython3",
   "version": "3.8.5"
  }
 },
 "nbformat": 4,
 "nbformat_minor": 5
}
