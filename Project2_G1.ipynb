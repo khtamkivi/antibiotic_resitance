{
 "cells": [
  {
   "cell_type": "markdown",
   "id": "c25ad0e1",
   "metadata": {},
   "source": [
    "# 1) Explanatory data analysis"
   ]
  },
  {
   "cell_type": "markdown",
   "id": "6933bb44",
   "metadata": {},
   "source": [
    "## Importing, cleaning and transforming the data"
   ]
  },
  {
   "cell_type": "code",
   "execution_count": 1,
   "id": "25b0d8fc",
   "metadata": {},
   "outputs": [],
   "source": [
    "import pandas as pd\n",
    "import numpy as np\n",
    "import matplotlib.pyplot as plt"
   ]
  },
  {
   "cell_type": "markdown",
   "id": "75c7ea97",
   "metadata": {},
   "source": [
    "### Resistance data"
   ]
  },
  {
   "cell_type": "code",
   "execution_count": 2,
   "id": "042b159c",
   "metadata": {},
   "outputs": [],
   "source": [
    "resistance_data = pd.read_csv('antibio_dataset/resist.csv')"
   ]
  },
  {
   "cell_type": "code",
   "execution_count": 3,
   "id": "953c53c8",
   "metadata": {},
   "outputs": [
    {
     "data": {
      "text/plain": [
       "(3786, 4)"
      ]
     },
     "execution_count": 3,
     "metadata": {},
     "output_type": "execute_result"
    }
   ],
   "source": [
    "resistance_data.shape"
   ]
  },
  {
   "cell_type": "code",
   "execution_count": 4,
   "id": "76a6c118",
   "metadata": {},
   "outputs": [
    {
     "data": {
      "text/html": [
       "<div>\n",
       "<style scoped>\n",
       "    .dataframe tbody tr th:only-of-type {\n",
       "        vertical-align: middle;\n",
       "    }\n",
       "\n",
       "    .dataframe tbody tr th {\n",
       "        vertical-align: top;\n",
       "    }\n",
       "\n",
       "    .dataframe thead th {\n",
       "        text-align: right;\n",
       "    }\n",
       "</style>\n",
       "<table border=\"1\" class=\"dataframe\">\n",
       "  <thead>\n",
       "    <tr style=\"text-align: right;\">\n",
       "      <th></th>\n",
       "      <th>Sample_ID</th>\n",
       "      <th>azm_sr</th>\n",
       "      <th>cip_sr</th>\n",
       "      <th>cfx_sr</th>\n",
       "    </tr>\n",
       "  </thead>\n",
       "  <tbody>\n",
       "    <tr>\n",
       "      <th>0</th>\n",
       "      <td>ERR1549286</td>\n",
       "      <td>1.0</td>\n",
       "      <td>NaN</td>\n",
       "      <td>NaN</td>\n",
       "    </tr>\n",
       "    <tr>\n",
       "      <th>1</th>\n",
       "      <td>ERR1549290</td>\n",
       "      <td>1.0</td>\n",
       "      <td>NaN</td>\n",
       "      <td>NaN</td>\n",
       "    </tr>\n",
       "    <tr>\n",
       "      <th>2</th>\n",
       "      <td>ERR1549291</td>\n",
       "      <td>1.0</td>\n",
       "      <td>NaN</td>\n",
       "      <td>NaN</td>\n",
       "    </tr>\n",
       "    <tr>\n",
       "      <th>3</th>\n",
       "      <td>ERR1549287</td>\n",
       "      <td>1.0</td>\n",
       "      <td>NaN</td>\n",
       "      <td>NaN</td>\n",
       "    </tr>\n",
       "    <tr>\n",
       "      <th>4</th>\n",
       "      <td>ERR1549288</td>\n",
       "      <td>1.0</td>\n",
       "      <td>NaN</td>\n",
       "      <td>NaN</td>\n",
       "    </tr>\n",
       "    <tr>\n",
       "      <th>...</th>\n",
       "      <td>...</td>\n",
       "      <td>...</td>\n",
       "      <td>...</td>\n",
       "      <td>...</td>\n",
       "    </tr>\n",
       "    <tr>\n",
       "      <th>3781</th>\n",
       "      <td>ERR2172350</td>\n",
       "      <td>1.0</td>\n",
       "      <td>NaN</td>\n",
       "      <td>NaN</td>\n",
       "    </tr>\n",
       "    <tr>\n",
       "      <th>3782</th>\n",
       "      <td>ERR2172351</td>\n",
       "      <td>1.0</td>\n",
       "      <td>NaN</td>\n",
       "      <td>NaN</td>\n",
       "    </tr>\n",
       "    <tr>\n",
       "      <th>3783</th>\n",
       "      <td>ERR2172352</td>\n",
       "      <td>1.0</td>\n",
       "      <td>NaN</td>\n",
       "      <td>NaN</td>\n",
       "    </tr>\n",
       "    <tr>\n",
       "      <th>3784</th>\n",
       "      <td>ERR2172353</td>\n",
       "      <td>1.0</td>\n",
       "      <td>NaN</td>\n",
       "      <td>NaN</td>\n",
       "    </tr>\n",
       "    <tr>\n",
       "      <th>3785</th>\n",
       "      <td>ERR2172354</td>\n",
       "      <td>0.0</td>\n",
       "      <td>NaN</td>\n",
       "      <td>NaN</td>\n",
       "    </tr>\n",
       "  </tbody>\n",
       "</table>\n",
       "<p>3786 rows × 4 columns</p>\n",
       "</div>"
      ],
      "text/plain": [
       "       Sample_ID  azm_sr  cip_sr  cfx_sr\n",
       "0     ERR1549286     1.0     NaN     NaN\n",
       "1     ERR1549290     1.0     NaN     NaN\n",
       "2     ERR1549291     1.0     NaN     NaN\n",
       "3     ERR1549287     1.0     NaN     NaN\n",
       "4     ERR1549288     1.0     NaN     NaN\n",
       "...          ...     ...     ...     ...\n",
       "3781  ERR2172350     1.0     NaN     NaN\n",
       "3782  ERR2172351     1.0     NaN     NaN\n",
       "3783  ERR2172352     1.0     NaN     NaN\n",
       "3784  ERR2172353     1.0     NaN     NaN\n",
       "3785  ERR2172354     0.0     NaN     NaN\n",
       "\n",
       "[3786 rows x 4 columns]"
      ]
     },
     "execution_count": 4,
     "metadata": {},
     "output_type": "execute_result"
    }
   ],
   "source": [
    "resistance_data"
   ]
  },
  {
   "cell_type": "code",
   "execution_count": 5,
   "id": "16c0f71a",
   "metadata": {},
   "outputs": [
    {
     "data": {
      "text/plain": [
       "Sample_ID     object\n",
       "azm_sr       float64\n",
       "cip_sr       float64\n",
       "cfx_sr       float64\n",
       "dtype: object"
      ]
     },
     "execution_count": 5,
     "metadata": {},
     "output_type": "execute_result"
    }
   ],
   "source": [
    "resistance_data.dtypes"
   ]
  },
  {
   "cell_type": "markdown",
   "id": "24f5f702",
   "metadata": {},
   "source": [
    "Missing values per column:"
   ]
  },
  {
   "cell_type": "code",
   "execution_count": 6,
   "id": "a3331729",
   "metadata": {},
   "outputs": [
    {
     "data": {
      "text/plain": [
       "Sample_ID      0\n",
       "azm_sr       308\n",
       "cip_sr       698\n",
       "cfx_sr       385\n",
       "dtype: int64"
      ]
     },
     "execution_count": 6,
     "metadata": {},
     "output_type": "execute_result"
    }
   ],
   "source": [
    "resistance_data.isna().sum()"
   ]
  },
  {
   "cell_type": "markdown",
   "id": "1ffb7a98",
   "metadata": {},
   "source": [
    "Proportion of missing values per column:"
   ]
  },
  {
   "cell_type": "code",
   "execution_count": 7,
   "id": "73a55b54",
   "metadata": {},
   "outputs": [
    {
     "data": {
      "text/plain": [
       "Sample_ID    0.000000\n",
       "azm_sr       0.081352\n",
       "cip_sr       0.184363\n",
       "cfx_sr       0.101690\n",
       "dtype: float64"
      ]
     },
     "execution_count": 7,
     "metadata": {},
     "output_type": "execute_result"
    }
   ],
   "source": [
    "resistance_data.isna().sum() / len(resistance_data)"
   ]
  },
  {
   "cell_type": "markdown",
   "id": "9ea60912",
   "metadata": {},
   "source": [
    "Although the share of missing values per column is not significantly high, one would still aim to keep as much data points as possible for the prediction analysis. Thus imputation of missing values would be a possible step but in this case the authors hold no information about the biological similarity of the samples. Not being certain if Sample_ID string similarity would also translate into biological dimilarity between the samples, authors decided not to impute the missing values without additional similarity measures and omit the samples that have missing values from the analysis entirely."
   ]
  },
  {
   "cell_type": "code",
   "execution_count": 8,
   "id": "454098d9",
   "metadata": {},
   "outputs": [],
   "source": [
    "azithromycin_res = resistance_data[resistance_data['azm_sr'].isna() != True][['Sample_ID','azm_sr']]\n",
    "cefixime_res = resistance_data[resistance_data['cfx_sr'].isna() != True][['Sample_ID','cfx_sr']]\n",
    "ciprofloxacin_res = resistance_data[resistance_data['cip_sr'].isna() != True][['Sample_ID','cip_sr']]"
   ]
  },
  {
   "cell_type": "code",
   "execution_count": 9,
   "id": "7c8fefa5",
   "metadata": {},
   "outputs": [
    {
     "name": "stdout",
     "output_type": "stream",
     "text": [
      "Azithromycin: 3478 samples\n",
      "Cefixime: 3401 samples\n",
      "Ciprofloxacin: 3088 samples\n"
     ]
    }
   ],
   "source": [
    "print(f\"Azithromycin: {azithromycin_res.shape[0]} samples\")\n",
    "print(f\"Cefixime: {cefixime_res.shape[0]} samples\")\n",
    "print(f\"Ciprofloxacin: {ciprofloxacin_res.shape[0]} samples\")"
   ]
  },
  {
   "cell_type": "markdown",
   "id": "3da4c07a",
   "metadata": {},
   "source": [
    "### K-mer data"
   ]
  },
  {
   "cell_type": "code",
   "execution_count": 10,
   "id": "0cfd2159",
   "metadata": {},
   "outputs": [],
   "source": [
    "kmers_azithromycin = pd.read_csv('antibio_dataset/kmers_azithromycin.tsv', sep=\"\\t\")\n",
    "kmers_cefixime = pd.read_csv('antibio_dataset/kmers_cefixime.tsv', sep=\"\\t\")\n",
    "kmers_ciprofloxacin = pd.read_csv('antibio_dataset/kmers_ciprofloxacin.tsv', sep=\"\\t\")"
   ]
  },
  {
   "cell_type": "code",
   "execution_count": 11,
   "id": "93bafddd",
   "metadata": {},
   "outputs": [
    {
     "data": {
      "text/html": [
       "<div>\n",
       "<style scoped>\n",
       "    .dataframe tbody tr th:only-of-type {\n",
       "        vertical-align: middle;\n",
       "    }\n",
       "\n",
       "    .dataframe tbody tr th {\n",
       "        vertical-align: top;\n",
       "    }\n",
       "\n",
       "    .dataframe thead th {\n",
       "        text-align: right;\n",
       "    }\n",
       "</style>\n",
       "<table border=\"1\" class=\"dataframe\">\n",
       "  <thead>\n",
       "    <tr style=\"text-align: right;\">\n",
       "      <th></th>\n",
       "      <th>pattern_id</th>\n",
       "      <th>ERR1549286</th>\n",
       "      <th>ERR1549290</th>\n",
       "      <th>ERR1549291</th>\n",
       "      <th>ERR1549287</th>\n",
       "      <th>ERR1549288</th>\n",
       "      <th>ERR1549299</th>\n",
       "      <th>ERR1549292</th>\n",
       "      <th>ERR1549298</th>\n",
       "      <th>ERR1549296</th>\n",
       "      <th>...</th>\n",
       "      <th>ERR2172345</th>\n",
       "      <th>ERR2172346</th>\n",
       "      <th>ERR2172347</th>\n",
       "      <th>ERR2172348</th>\n",
       "      <th>ERR2172349</th>\n",
       "      <th>ERR2172350</th>\n",
       "      <th>ERR2172351</th>\n",
       "      <th>ERR2172352</th>\n",
       "      <th>ERR2172353</th>\n",
       "      <th>ERR2172354</th>\n",
       "    </tr>\n",
       "  </thead>\n",
       "  <tbody>\n",
       "    <tr>\n",
       "      <th>0</th>\n",
       "      <td>CTTAACATATTTGCCTTTGATTTTTGAAGAAGCTGCCACGCCGGCAG</td>\n",
       "      <td>0</td>\n",
       "      <td>0</td>\n",
       "      <td>0</td>\n",
       "      <td>0</td>\n",
       "      <td>0</td>\n",
       "      <td>0</td>\n",
       "      <td>0</td>\n",
       "      <td>0</td>\n",
       "      <td>0</td>\n",
       "      <td>...</td>\n",
       "      <td>0</td>\n",
       "      <td>0</td>\n",
       "      <td>0</td>\n",
       "      <td>0</td>\n",
       "      <td>0</td>\n",
       "      <td>0</td>\n",
       "      <td>0</td>\n",
       "      <td>1</td>\n",
       "      <td>0</td>\n",
       "      <td>0</td>\n",
       "    </tr>\n",
       "    <tr>\n",
       "      <th>1</th>\n",
       "      <td>TACCGTAACCGGCAATGCGGATATTACGGTC</td>\n",
       "      <td>0</td>\n",
       "      <td>0</td>\n",
       "      <td>0</td>\n",
       "      <td>0</td>\n",
       "      <td>0</td>\n",
       "      <td>0</td>\n",
       "      <td>0</td>\n",
       "      <td>0</td>\n",
       "      <td>0</td>\n",
       "      <td>...</td>\n",
       "      <td>0</td>\n",
       "      <td>0</td>\n",
       "      <td>0</td>\n",
       "      <td>0</td>\n",
       "      <td>0</td>\n",
       "      <td>0</td>\n",
       "      <td>0</td>\n",
       "      <td>0</td>\n",
       "      <td>0</td>\n",
       "      <td>0</td>\n",
       "    </tr>\n",
       "    <tr>\n",
       "      <th>2</th>\n",
       "      <td>CAGACGGCATTTTTTTTGCGTTTTTCGGGAGG</td>\n",
       "      <td>0</td>\n",
       "      <td>0</td>\n",
       "      <td>0</td>\n",
       "      <td>0</td>\n",
       "      <td>0</td>\n",
       "      <td>0</td>\n",
       "      <td>0</td>\n",
       "      <td>0</td>\n",
       "      <td>0</td>\n",
       "      <td>...</td>\n",
       "      <td>0</td>\n",
       "      <td>1</td>\n",
       "      <td>0</td>\n",
       "      <td>0</td>\n",
       "      <td>0</td>\n",
       "      <td>0</td>\n",
       "      <td>0</td>\n",
       "      <td>0</td>\n",
       "      <td>0</td>\n",
       "      <td>0</td>\n",
       "    </tr>\n",
       "    <tr>\n",
       "      <th>3</th>\n",
       "      <td>AACGGGTTTTCAGACGGCATTCGATATCGGGACG</td>\n",
       "      <td>0</td>\n",
       "      <td>0</td>\n",
       "      <td>0</td>\n",
       "      <td>0</td>\n",
       "      <td>0</td>\n",
       "      <td>0</td>\n",
       "      <td>0</td>\n",
       "      <td>0</td>\n",
       "      <td>0</td>\n",
       "      <td>...</td>\n",
       "      <td>0</td>\n",
       "      <td>0</td>\n",
       "      <td>0</td>\n",
       "      <td>0</td>\n",
       "      <td>0</td>\n",
       "      <td>0</td>\n",
       "      <td>0</td>\n",
       "      <td>0</td>\n",
       "      <td>0</td>\n",
       "      <td>0</td>\n",
       "    </tr>\n",
       "    <tr>\n",
       "      <th>4</th>\n",
       "      <td>CCAAAAATTACCCGCGTTGACGTAGCTAAAGA</td>\n",
       "      <td>0</td>\n",
       "      <td>0</td>\n",
       "      <td>0</td>\n",
       "      <td>0</td>\n",
       "      <td>0</td>\n",
       "      <td>0</td>\n",
       "      <td>0</td>\n",
       "      <td>0</td>\n",
       "      <td>0</td>\n",
       "      <td>...</td>\n",
       "      <td>0</td>\n",
       "      <td>0</td>\n",
       "      <td>0</td>\n",
       "      <td>0</td>\n",
       "      <td>0</td>\n",
       "      <td>0</td>\n",
       "      <td>0</td>\n",
       "      <td>0</td>\n",
       "      <td>0</td>\n",
       "      <td>0</td>\n",
       "    </tr>\n",
       "  </tbody>\n",
       "</table>\n",
       "<p>5 rows × 3972 columns</p>\n",
       "</div>"
      ],
      "text/plain": [
       "                                        pattern_id  ERR1549286  ERR1549290  \\\n",
       "0  CTTAACATATTTGCCTTTGATTTTTGAAGAAGCTGCCACGCCGGCAG           0           0   \n",
       "1                  TACCGTAACCGGCAATGCGGATATTACGGTC           0           0   \n",
       "2                 CAGACGGCATTTTTTTTGCGTTTTTCGGGAGG           0           0   \n",
       "3               AACGGGTTTTCAGACGGCATTCGATATCGGGACG           0           0   \n",
       "4                 CCAAAAATTACCCGCGTTGACGTAGCTAAAGA           0           0   \n",
       "\n",
       "   ERR1549291  ERR1549287  ERR1549288  ERR1549299  ERR1549292  ERR1549298  \\\n",
       "0           0           0           0           0           0           0   \n",
       "1           0           0           0           0           0           0   \n",
       "2           0           0           0           0           0           0   \n",
       "3           0           0           0           0           0           0   \n",
       "4           0           0           0           0           0           0   \n",
       "\n",
       "   ERR1549296  ...  ERR2172345  ERR2172346  ERR2172347  ERR2172348  \\\n",
       "0           0  ...           0           0           0           0   \n",
       "1           0  ...           0           0           0           0   \n",
       "2           0  ...           0           1           0           0   \n",
       "3           0  ...           0           0           0           0   \n",
       "4           0  ...           0           0           0           0   \n",
       "\n",
       "   ERR2172349  ERR2172350  ERR2172351  ERR2172352  ERR2172353  ERR2172354  \n",
       "0           0           0           0           1           0           0  \n",
       "1           0           0           0           0           0           0  \n",
       "2           0           0           0           0           0           0  \n",
       "3           0           0           0           0           0           0  \n",
       "4           0           0           0           0           0           0  \n",
       "\n",
       "[5 rows x 3972 columns]"
      ]
     },
     "execution_count": 11,
     "metadata": {},
     "output_type": "execute_result"
    }
   ],
   "source": [
    "kmers_azithromycin.head()"
   ]
  },
  {
   "cell_type": "markdown",
   "id": "ab29f34b",
   "metadata": {},
   "source": [
    "In order to merge the information of the resistance data tables and k-mer data tables, the k-mer tables need to be transposed (sample IDs in rows and patterns in columns)."
   ]
  },
  {
   "cell_type": "code",
   "execution_count": 12,
   "id": "2ea8cd90",
   "metadata": {},
   "outputs": [],
   "source": [
    "# Azithromycin\n",
    "\n",
    "kmers_azithromycin = kmers_azithromycin.transpose()\n",
    "\n",
    "# Making the first row of the transposed DataFrame as column headers\n",
    "new_header = kmers_azithromycin.iloc[0]\n",
    "kmers_azithromycin = kmers_azithromycin[1:] \n",
    "kmers_azithromycin.columns = new_header\n",
    "\n",
    "# Making the structure of column names similar to the structure of resistance tables\n",
    "kmers_azithromycin = kmers_azithromycin.reset_index()\n",
    "kmers_azithromycin = kmers_azithromycin.rename(columns={'index': 'Sample_ID'})\n",
    "kmers_azithromycin.index.name = None"
   ]
  },
  {
   "cell_type": "code",
   "execution_count": 13,
   "id": "cbaf3d30",
   "metadata": {},
   "outputs": [],
   "source": [
    "# Cefixime\n",
    "\n",
    "kmers_cefixime = kmers_cefixime.transpose()\n",
    "\n",
    "# Making the first row of the transposed DataFrame as column headers\n",
    "new_header = kmers_cefixime.iloc[0]\n",
    "kmers_cefixime = kmers_cefixime[1:] \n",
    "kmers_cefixime.columns = new_header\n",
    "\n",
    "# Making the structure of column names similar to the structure of resistance tables\n",
    "kmers_cefixime = kmers_cefixime.reset_index()\n",
    "kmers_cefixime = kmers_cefixime.rename(columns={'index': 'Sample_ID'})\n",
    "kmers_cefixime.index.name = None"
   ]
  },
  {
   "cell_type": "code",
   "execution_count": 14,
   "id": "9d64c4fe",
   "metadata": {},
   "outputs": [],
   "source": [
    "# Ciprofloxacin\n",
    "\n",
    "kmers_ciprofloxacin = kmers_ciprofloxacin.transpose()\n",
    "\n",
    "# Making the first row of the transposed DataFrame as column headers\n",
    "new_header = kmers_ciprofloxacin.iloc[0]\n",
    "kmers_ciprofloxacin = kmers_ciprofloxacin[1:] \n",
    "kmers_ciprofloxacin.columns = new_header\n",
    "\n",
    "# Making the structure of column names similar to the structure of resistance tables\n",
    "kmers_ciprofloxacin = kmers_ciprofloxacin.reset_index()\n",
    "kmers_ciprofloxacin = kmers_ciprofloxacin.rename(columns={'index': 'Sample_ID'})\n",
    "kmers_ciprofloxacin.index.name = None"
   ]
  },
  {
   "cell_type": "markdown",
   "id": "67491afb",
   "metadata": {},
   "source": [
    "## Merging the data"
   ]
  },
  {
   "cell_type": "code",
   "execution_count": 15,
   "id": "4343307c",
   "metadata": {},
   "outputs": [],
   "source": [
    "azithromycin_data = kmers_azithromycin.merge(azithromycin_res, how = 'right', on = 'Sample_ID')\n",
    "cefixime_data = kmers_cefixime.merge(cefixime_res, how = 'right', on = 'Sample_ID')\n",
    "ciprofloxacin_data = kmers_ciprofloxacin.merge(ciprofloxacin_res, how = 'right', on = 'Sample_ID')"
   ]
  },
  {
   "cell_type": "code",
   "execution_count": 16,
   "id": "215217ec",
   "metadata": {},
   "outputs": [
    {
     "name": "stdout",
     "output_type": "stream",
     "text": [
      "Shape of azithromycin data: (3478, 517)\n",
      "Shape of cefixime data: (3401, 386)\n",
      "Shape of ciprofloxacin data: (3088, 8875)\n"
     ]
    }
   ],
   "source": [
    "print(\"Shape of azithromycin data:\", azithromycin_data.shape)\n",
    "print(\"Shape of cefixime data:\", cefixime_data.shape)\n",
    "print(\"Shape of ciprofloxacin data:\", ciprofloxacin_data.shape)"
   ]
  },
  {
   "cell_type": "code",
   "execution_count": 17,
   "id": "cb0f3ee9",
   "metadata": {},
   "outputs": [
    {
     "data": {
      "text/html": [
       "<div>\n",
       "<style scoped>\n",
       "    .dataframe tbody tr th:only-of-type {\n",
       "        vertical-align: middle;\n",
       "    }\n",
       "\n",
       "    .dataframe tbody tr th {\n",
       "        vertical-align: top;\n",
       "    }\n",
       "\n",
       "    .dataframe thead th {\n",
       "        text-align: right;\n",
       "    }\n",
       "</style>\n",
       "<table border=\"1\" class=\"dataframe\">\n",
       "  <thead>\n",
       "    <tr style=\"text-align: right;\">\n",
       "      <th></th>\n",
       "      <th>Sample_ID</th>\n",
       "      <th>CTTAACATATTTGCCTTTGATTTTTGAAGAAGCTGCCACGCCGGCAG</th>\n",
       "      <th>TACCGTAACCGGCAATGCGGATATTACGGTC</th>\n",
       "      <th>CAGACGGCATTTTTTTTGCGTTTTTCGGGAGG</th>\n",
       "      <th>AACGGGTTTTCAGACGGCATTCGATATCGGGACG</th>\n",
       "      <th>CCAAAAATTACCCGCGTTGACGTAGCTAAAGA</th>\n",
       "      <th>CGGACCGGTATTCCGTCGAAATCACCGCCGTCAACCGCCCC</th>\n",
       "      <th>TGAAATTGTCCATCTCGTATGCCGTCTTCTGCTTG</th>\n",
       "      <th>TACGGTATTGTCCGCATTATTAAACTCAAAACC,AGAAGACGGCATACGAGATGGACAATTTCATCC</th>\n",
       "      <th>GGCATTTTTTTTGCGTTTTTCGGGAGGGGGCGGC</th>\n",
       "      <th>...</th>\n",
       "      <th>CTGCTGGACAAAAAAGGGATTAAAGATATCACC</th>\n",
       "      <th>CGTTCCTTTCGGCGTATTCTCGCCGTTGCGCGGCG</th>\n",
       "      <th>TCACATTTCCGCTTCAGACGGCATCCGATATGA</th>\n",
       "      <th>GAAGCTGCCACGCCGGCAGAAGTGTTGTTTGCGGG</th>\n",
       "      <th>ACGCCGAAAGGAACGTGTATGCTGCCGCCCAACTGCG</th>\n",
       "      <th>ACTCGAATTTTGCAGGATTGGTATCAATGGCGATAATGCGACCGGCTTTGG</th>\n",
       "      <th>ACCCGGCCCGGGCTGGCAGGCTACGGCTACACCGGTATCC,CACCTTAGGGAATCGTTCCCTTTGGGCCGGG,TACGCCGAAAGGAACGTGTATGCTGCCGCCC,GGGATTGTTGATTGTCGGACTGTTGTGCAACCTC</th>\n",
       "      <th>AGCCTGATTCACCAATGGTTTGTTCATAACAA</th>\n",
       "      <th>TTTTGAGCAGAAAGCAGTCAAAAACAGGGGGATTTTGCCCTTTTGACAGGTTCGAGTGCCG</th>\n",
       "      <th>azm_sr</th>\n",
       "    </tr>\n",
       "  </thead>\n",
       "  <tbody>\n",
       "    <tr>\n",
       "      <th>0</th>\n",
       "      <td>ERR1549286</td>\n",
       "      <td>0</td>\n",
       "      <td>0</td>\n",
       "      <td>0</td>\n",
       "      <td>0</td>\n",
       "      <td>0</td>\n",
       "      <td>0</td>\n",
       "      <td>0</td>\n",
       "      <td>0</td>\n",
       "      <td>0</td>\n",
       "      <td>...</td>\n",
       "      <td>1</td>\n",
       "      <td>1</td>\n",
       "      <td>1</td>\n",
       "      <td>1</td>\n",
       "      <td>1</td>\n",
       "      <td>1</td>\n",
       "      <td>1</td>\n",
       "      <td>1</td>\n",
       "      <td>1</td>\n",
       "      <td>1.0</td>\n",
       "    </tr>\n",
       "    <tr>\n",
       "      <th>1</th>\n",
       "      <td>ERR1549290</td>\n",
       "      <td>0</td>\n",
       "      <td>0</td>\n",
       "      <td>0</td>\n",
       "      <td>0</td>\n",
       "      <td>0</td>\n",
       "      <td>0</td>\n",
       "      <td>0</td>\n",
       "      <td>0</td>\n",
       "      <td>0</td>\n",
       "      <td>...</td>\n",
       "      <td>1</td>\n",
       "      <td>1</td>\n",
       "      <td>1</td>\n",
       "      <td>1</td>\n",
       "      <td>1</td>\n",
       "      <td>1</td>\n",
       "      <td>1</td>\n",
       "      <td>1</td>\n",
       "      <td>1</td>\n",
       "      <td>1.0</td>\n",
       "    </tr>\n",
       "    <tr>\n",
       "      <th>2</th>\n",
       "      <td>ERR1549291</td>\n",
       "      <td>0</td>\n",
       "      <td>0</td>\n",
       "      <td>0</td>\n",
       "      <td>0</td>\n",
       "      <td>0</td>\n",
       "      <td>0</td>\n",
       "      <td>0</td>\n",
       "      <td>0</td>\n",
       "      <td>0</td>\n",
       "      <td>...</td>\n",
       "      <td>1</td>\n",
       "      <td>1</td>\n",
       "      <td>1</td>\n",
       "      <td>1</td>\n",
       "      <td>1</td>\n",
       "      <td>1</td>\n",
       "      <td>1</td>\n",
       "      <td>1</td>\n",
       "      <td>1</td>\n",
       "      <td>1.0</td>\n",
       "    </tr>\n",
       "    <tr>\n",
       "      <th>3</th>\n",
       "      <td>ERR1549287</td>\n",
       "      <td>0</td>\n",
       "      <td>0</td>\n",
       "      <td>0</td>\n",
       "      <td>0</td>\n",
       "      <td>0</td>\n",
       "      <td>0</td>\n",
       "      <td>0</td>\n",
       "      <td>0</td>\n",
       "      <td>0</td>\n",
       "      <td>...</td>\n",
       "      <td>1</td>\n",
       "      <td>1</td>\n",
       "      <td>1</td>\n",
       "      <td>1</td>\n",
       "      <td>1</td>\n",
       "      <td>1</td>\n",
       "      <td>1</td>\n",
       "      <td>1</td>\n",
       "      <td>1</td>\n",
       "      <td>1.0</td>\n",
       "    </tr>\n",
       "    <tr>\n",
       "      <th>4</th>\n",
       "      <td>ERR1549288</td>\n",
       "      <td>0</td>\n",
       "      <td>0</td>\n",
       "      <td>0</td>\n",
       "      <td>0</td>\n",
       "      <td>0</td>\n",
       "      <td>0</td>\n",
       "      <td>0</td>\n",
       "      <td>0</td>\n",
       "      <td>0</td>\n",
       "      <td>...</td>\n",
       "      <td>1</td>\n",
       "      <td>1</td>\n",
       "      <td>1</td>\n",
       "      <td>1</td>\n",
       "      <td>1</td>\n",
       "      <td>1</td>\n",
       "      <td>1</td>\n",
       "      <td>1</td>\n",
       "      <td>1</td>\n",
       "      <td>1.0</td>\n",
       "    </tr>\n",
       "  </tbody>\n",
       "</table>\n",
       "<p>5 rows × 517 columns</p>\n",
       "</div>"
      ],
      "text/plain": [
       "    Sample_ID CTTAACATATTTGCCTTTGATTTTTGAAGAAGCTGCCACGCCGGCAG  \\\n",
       "0  ERR1549286                                               0   \n",
       "1  ERR1549290                                               0   \n",
       "2  ERR1549291                                               0   \n",
       "3  ERR1549287                                               0   \n",
       "4  ERR1549288                                               0   \n",
       "\n",
       "  TACCGTAACCGGCAATGCGGATATTACGGTC CAGACGGCATTTTTTTTGCGTTTTTCGGGAGG  \\\n",
       "0                               0                                0   \n",
       "1                               0                                0   \n",
       "2                               0                                0   \n",
       "3                               0                                0   \n",
       "4                               0                                0   \n",
       "\n",
       "  AACGGGTTTTCAGACGGCATTCGATATCGGGACG CCAAAAATTACCCGCGTTGACGTAGCTAAAGA  \\\n",
       "0                                  0                                0   \n",
       "1                                  0                                0   \n",
       "2                                  0                                0   \n",
       "3                                  0                                0   \n",
       "4                                  0                                0   \n",
       "\n",
       "  CGGACCGGTATTCCGTCGAAATCACCGCCGTCAACCGCCCC  \\\n",
       "0                                         0   \n",
       "1                                         0   \n",
       "2                                         0   \n",
       "3                                         0   \n",
       "4                                         0   \n",
       "\n",
       "  TGAAATTGTCCATCTCGTATGCCGTCTTCTGCTTG  \\\n",
       "0                                   0   \n",
       "1                                   0   \n",
       "2                                   0   \n",
       "3                                   0   \n",
       "4                                   0   \n",
       "\n",
       "  TACGGTATTGTCCGCATTATTAAACTCAAAACC,AGAAGACGGCATACGAGATGGACAATTTCATCC  \\\n",
       "0                                                  0                    \n",
       "1                                                  0                    \n",
       "2                                                  0                    \n",
       "3                                                  0                    \n",
       "4                                                  0                    \n",
       "\n",
       "  GGCATTTTTTTTGCGTTTTTCGGGAGGGGGCGGC  ... CTGCTGGACAAAAAAGGGATTAAAGATATCACC  \\\n",
       "0                                  0  ...                                 1   \n",
       "1                                  0  ...                                 1   \n",
       "2                                  0  ...                                 1   \n",
       "3                                  0  ...                                 1   \n",
       "4                                  0  ...                                 1   \n",
       "\n",
       "  CGTTCCTTTCGGCGTATTCTCGCCGTTGCGCGGCG TCACATTTCCGCTTCAGACGGCATCCGATATGA  \\\n",
       "0                                   1                                 1   \n",
       "1                                   1                                 1   \n",
       "2                                   1                                 1   \n",
       "3                                   1                                 1   \n",
       "4                                   1                                 1   \n",
       "\n",
       "  GAAGCTGCCACGCCGGCAGAAGTGTTGTTTGCGGG ACGCCGAAAGGAACGTGTATGCTGCCGCCCAACTGCG  \\\n",
       "0                                   1                                     1   \n",
       "1                                   1                                     1   \n",
       "2                                   1                                     1   \n",
       "3                                   1                                     1   \n",
       "4                                   1                                     1   \n",
       "\n",
       "  ACTCGAATTTTGCAGGATTGGTATCAATGGCGATAATGCGACCGGCTTTGG  \\\n",
       "0                                                  1    \n",
       "1                                                  1    \n",
       "2                                                  1    \n",
       "3                                                  1    \n",
       "4                                                  1    \n",
       "\n",
       "  ACCCGGCCCGGGCTGGCAGGCTACGGCTACACCGGTATCC,CACCTTAGGGAATCGTTCCCTTTGGGCCGGG,TACGCCGAAAGGAACGTGTATGCTGCCGCCC,GGGATTGTTGATTGTCGGACTGTTGTGCAACCTC  \\\n",
       "0                                                  1                                                                                            \n",
       "1                                                  1                                                                                            \n",
       "2                                                  1                                                                                            \n",
       "3                                                  1                                                                                            \n",
       "4                                                  1                                                                                            \n",
       "\n",
       "  AGCCTGATTCACCAATGGTTTGTTCATAACAA  \\\n",
       "0                                1   \n",
       "1                                1   \n",
       "2                                1   \n",
       "3                                1   \n",
       "4                                1   \n",
       "\n",
       "  TTTTGAGCAGAAAGCAGTCAAAAACAGGGGGATTTTGCCCTTTTGACAGGTTCGAGTGCCG azm_sr  \n",
       "0                                                  1               1.0  \n",
       "1                                                  1               1.0  \n",
       "2                                                  1               1.0  \n",
       "3                                                  1               1.0  \n",
       "4                                                  1               1.0  \n",
       "\n",
       "[5 rows x 517 columns]"
      ]
     },
     "execution_count": 17,
     "metadata": {},
     "output_type": "execute_result"
    }
   ],
   "source": [
    "azithromycin_data.head()"
   ]
  },
  {
   "cell_type": "markdown",
   "id": "86894d34",
   "metadata": {},
   "source": [
    "## Visualising the frequency of different k-mers"
   ]
  },
  {
   "cell_type": "code",
   "execution_count": 18,
   "id": "0bdae194",
   "metadata": {},
   "outputs": [],
   "source": [
    "azithromycin_column_sums = np.sum(azithromycin_data.iloc[:,1:-1], axis=0)\n",
    "cefixime_column_sums = np.sum(cefixime_data.iloc[:,1:-1], axis=0)\n",
    "ciprofloxacin_column_sums = np.sum(ciprofloxacin_data.iloc[:,1:-1], axis=0)"
   ]
  },
  {
   "cell_type": "code",
   "execution_count": 19,
   "id": "152e3b73",
   "metadata": {},
   "outputs": [
    {
     "data": {
      "image/png": "[encoded data removed]",
      "text/plain": [
       "<Figure size 1000x1500 with 3 Axes>"
      ]
     },
     "metadata": {},
     "output_type": "display_data"
    }
   ],
   "source": [
    "# Plotting histograms\n",
    "fig, axs = plt.subplots(3, 1, figsize=(10, 15))\n",
    "\n",
    "axs[0].bar(azithromycin_data.iloc[:,1:-1].columns , azithromycin_column_sums, color = 'black')\n",
    "axs[0].set_title(f'Azithromycin Column Sums\\n(max_N = {len(azithromycin_data)})')\n",
    "axs[0].set_xlabel('K-mers')\n",
    "axs[0].set_ylabel('Frequency')\n",
    "axs[0].grid(axis='y', alpha=0.75)\n",
    "axs[0].tick_params(axis='x', labelbottom=False)\n",
    "\n",
    "axs[1].bar(cefixime_data.iloc[:,1:-1].columns , cefixime_column_sums, color = 'black')\n",
    "axs[1].set_title(f'Cefixime Column Sums\\n(max_N = {len(cefixime_data)})')\n",
    "axs[1].set_xlabel('K-mers')\n",
    "axs[1].set_ylabel('Frequency')\n",
    "axs[1].grid(axis='y', alpha=0.75)\n",
    "axs[1].tick_params(axis='x', labelbottom=False)\n",
    "\n",
    "axs[2].bar(ciprofloxacin_data.iloc[:,1:-1].columns , ciprofloxacin_column_sums, color = 'black')\n",
    "axs[2].set_title(f'Ciprofloxacin Column Sums\\n(max_N = {len(ciprofloxacin_data)})')\n",
    "axs[2].set_xlabel('K-mers')\n",
    "axs[2].set_ylabel('Frequency')\n",
    "axs[2].grid(axis='y', alpha=0.75)\n",
    "axs[2].tick_params(axis='x', labelbottom=False)\n",
    "\n",
    "plt.tight_layout()\n",
    "plt.show()"
   ]
  },
  {
   "cell_type": "markdown",
   "id": "8e4f50e9",
   "metadata": {},
   "source": [
    "There are k-mers that appear in almost all samples, and there are kmers that appear in almost none of them. We will use this finding for the feature selection part."
   ]
  },
  {
   "cell_type": "markdown",
   "id": "4cf60ec7",
   "metadata": {},
   "source": [
    "## Checking class balance"
   ]
  },
  {
   "cell_type": "code",
   "execution_count": 20,
   "id": "4eb7dc66",
   "metadata": {},
   "outputs": [
    {
     "data": {
      "image/png": "[encoded data removed]",
      "text/plain": [
       "<Figure size 640x480 with 1 Axes>"
      ]
     },
     "metadata": {},
     "output_type": "display_data"
    }
   ],
   "source": [
    "# Azithromycin\n",
    "azithromycin_data.iloc[:, -1].value_counts(normalize=True).plot(kind='bar', color=['green', 'red'])\n",
    "plt.title('Resistance Class Balance\\nAzithromycin')\n",
    "plt.xlabel('Resistance')\n",
    "plt.tick_params(axis='x', labelrotation = 0)\n",
    "plt.ylabel('Percentage')\n",
    "plt.show()"
   ]
  },
  {
   "cell_type": "code",
   "execution_count": 21,
   "id": "7f7475a6",
   "metadata": {},
   "outputs": [
    {
     "data": {
      "image/png": "[encoded data removed]",
      "text/plain": [
       "<Figure size 640x480 with 1 Axes>"
      ]
     },
     "metadata": {},
     "output_type": "display_data"
    }
   ],
   "source": [
    "# Cefixime\n",
    "cefixime_data.iloc[:, -1].value_counts(normalize=True).plot(kind='bar', color=['green', 'red'])\n",
    "plt.title('Resistance Class Balance\\nCefixime')\n",
    "plt.xlabel('Resistance')\n",
    "plt.tick_params(axis='x', labelrotation = 0)\n",
    "plt.ylabel('Percentage')\n",
    "plt.show()"
   ]
  },
  {
   "cell_type": "code",
   "execution_count": 22,
   "id": "a21fb703",
   "metadata": {},
   "outputs": [
    {
     "data": {
      "image/png": "[encoded data removed]",
      "text/plain": [
       "<Figure size 640x480 with 1 Axes>"
      ]
     },
     "metadata": {},
     "output_type": "display_data"
    }
   ],
   "source": [
    "# Ciprofloxacin\n",
    "ciprofloxacin_data.iloc[:, -1].value_counts(normalize=True).plot(kind='bar', color=['green', 'red'])\n",
    "plt.title('Resistance Class Balance\\nCiprofloxacin')\n",
    "plt.xlabel('Resistance')\n",
    "plt.tick_params(axis='x', labelrotation = 0)\n",
    "plt.ylabel('Percentage')\n",
    "plt.show()"
   ]
  },
  {
   "cell_type": "markdown",
   "id": "c17b1705",
   "metadata": {},
   "source": [
    "We can observe, that the data for Azithromycin and Cefixime is very imbalanced. We will need to take this into consideration for model training and selection. \n",
    "\n",
    "We believe that since **Cefixime** has only one positive sample, it is not possible to construct a classifier that predicts the resistance in a sensible way. Even a method like SMOTE-n would not work since that sample does not have other neighbours from the same class and thus we have decided to **remove** this antibiotic drug from our further modelling process. For Azithromycin we will use SMOTE-n (a specific type of SMOTE that is intended for categorical data) to balance the classes."
   ]
  },
  {
   "cell_type": "markdown",
   "id": "65228374",
   "metadata": {},
   "source": [
    "# 2) Feature selection"
   ]
  },
  {
   "cell_type": "markdown",
   "id": "1ebfd4de",
   "metadata": {},
   "source": [
    "First we split the data into the feature matrix and target vector."
   ]
  },
  {
   "cell_type": "code",
   "execution_count": 23,
   "id": "975ce7a4",
   "metadata": {},
   "outputs": [],
   "source": [
    "X_azithromycin = azithromycin_data.iloc[:, :-1] \n",
    "y_azithromycin = azithromycin_data.iloc[:, -1]\n",
    "\n",
    "#X_cefixime = cefixime_data.iloc[:, :-1]\n",
    "#y_cefixime = cefixime_data.iloc[:, -1]\n",
    "\n",
    "X_ciprofloxacin = ciprofloxacin_data.iloc[:, :-1]\n",
    "y_ciprofloxacin = ciprofloxacin_data.iloc[:, -1]"
   ]
  },
  {
   "cell_type": "markdown",
   "id": "3b4591d4",
   "metadata": {},
   "source": [
    "We only keep the k-mers that are not present or absent in almost all samples."
   ]
  },
  {
   "cell_type": "code",
   "execution_count": 24,
   "id": "b52d273f",
   "metadata": {},
   "outputs": [],
   "source": [
    "# Function that deletes columns corresponding to k-mers that appear in more than l% or less than u% of the samples\n",
    "def delete_columns(df, u, l):\n",
    "    cols_to_remove = []\n",
    "    for col in df.columns[1:]:\n",
    "        col_sum = df[col].sum()\n",
    "        if (col_sum > (len(df) * u)) | (col_sum < (len(df) * l)): \n",
    "            cols_to_remove.append(col)\n",
    "    df_selected = df.drop(columns=cols_to_remove)\n",
    "    return df_selected"
   ]
  },
  {
   "cell_type": "code",
   "execution_count": 25,
   "id": "1cfa2f62",
   "metadata": {},
   "outputs": [],
   "source": [
    "X_azithromycin_selected = delete_columns(X_azithromycin, 0.95, 0.05)\n",
    "#X_cefixime_selected = delete_columns(X_cefixime, 0.95, 0.05)\n",
    "X_ciprofloxacin_selected = delete_columns(X_ciprofloxacin, 0.8, 0.2)"
   ]
  },
  {
   "cell_type": "markdown",
   "id": "3ef82442",
   "metadata": {},
   "source": [
    "# 3) Modelling"
   ]
  },
  {
   "cell_type": "markdown",
   "id": "5b5a19f0",
   "metadata": {},
   "source": [
    "First we split the data intro train and test sets."
   ]
  },
  {
   "cell_type": "code",
   "execution_count": 26,
   "id": "5a7bf1a3",
   "metadata": {},
   "outputs": [],
   "source": [
    "from sklearn.model_selection import train_test_split\n",
    "\n",
    "# Split the data into train and test sets\n",
    "X_train_azithromycin, X_test_azithromycin, y_train_azithromycin, y_test_azithromycin = train_test_split(X_azithromycin_selected.iloc[:, 1:], y_azithromycin, test_size=0.3, random_state=42)\n",
    "#X_train_cefixime, X_test_cefixime, y_train_cefixime, y_test_cefixime = train_test_split(X_cefixime_selected.iloc[:, 1:], y_cefixime, test_size=0.3, random_state=42)\n",
    "X_train_ciprofloxacin, X_test_ciprofloxacin, y_train_ciprofloxacin, y_test_ciprofloxacin = train_test_split(X_ciprofloxacin_selected.iloc[:, 1:], y_ciprofloxacin, test_size=0.3, random_state=42)"
   ]
  },
  {
   "cell_type": "markdown",
   "id": "6b3f2ae0",
   "metadata": {},
   "source": [
    "Use SMOTE-n for Azythromycin"
   ]
  },
  {
   "cell_type": "code",
   "execution_count": 27,
   "id": "390e680d-1a36-4929-a430-1e3e81db9586",
   "metadata": {},
   "outputs": [],
   "source": [
    "#!pip install imblearn"
   ]
  },
  {
   "cell_type": "code",
   "execution_count": 28,
   "id": "71f47c70",
   "metadata": {},
   "outputs": [
    {
     "name": "stdout",
     "output_type": "stream",
     "text": [
      "Imbalanced training data where the minority class took up only 12.9% of samples is now completely balanced.\n",
      "The previous minority class now takes up 50.0% of the samples.\n"
     ]
    }
   ],
   "source": [
    "from imblearn.over_sampling import SMOTEN\n",
    "\n",
    "sampler = SMOTEN(random_state=12)\n",
    "X_train_azithromycin_smote, y_train_azithromycin_smote= sampler.fit_resample(X_train_azithromycin, y_train_azithromycin)\n",
    "\n",
    "print(f\"Imbalanced training data where the minority class took up only {round(sum(y_train_azithromycin)/len(y_train_azithromycin),3) * 100}% of samples is now completely balanced.\")\n",
    "\n",
    "print(f\"The previous minority class now takes up {(sum(y_train_azithromycin_smote)/len(y_train_azithromycin_smote)) * 100}% of the samples.\")"
   ]
  },
  {
   "cell_type": "markdown",
   "id": "7afc073c",
   "metadata": {},
   "source": [
    "# Search for the best model using gridsearch"
   ]
  },
  {
   "cell_type": "markdown",
   "id": "ca6c29e8",
   "metadata": {},
   "source": [
    "#### The function we use for finding the best model"
   ]
  },
  {
   "cell_type": "code",
   "execution_count": 29,
   "id": "bafeb108",
   "metadata": {},
   "outputs": [],
   "source": [
    "from sklearn.model_selection import GridSearchCV\n",
    "from sklearn.metrics import balanced_accuracy_score\n",
    "from sklearn.ensemble import RandomForestClassifier, GradientBoostingClassifier\n",
    "from sklearn.svm import SVC\n",
    "from sklearn.linear_model import LogisticRegression\n",
    "from sklearn.neighbors import KNeighborsClassifier\n",
    "\n",
    "def find_best_model(models, param_grids, X_train, y_train):\n",
    "    best_model_for_current = None\n",
    "    best_score = 0.0\n",
    "\n",
    "    for model, param_grid in zip(models, param_grids):\n",
    "        grid_search = GridSearchCV(model, param_grid, scoring='balanced_accuracy', cv=5)\n",
    "        grid_search.fit(X_train, y_train)\n",
    "        \n",
    "        current_best_model = grid_search.best_estimator_\n",
    "        current_score = grid_search.best_score_\n",
    "\n",
    "        print(f\"Best Score for {model.__class__.__name__}: {current_score}\")\n",
    "\n",
    "        # Update the best model if the current model has a higher score\n",
    "        if current_score > best_score:\n",
    "            best_score = current_score\n",
    "            best_model_for_current = current_best_model\n",
    "\n",
    "    print(f\"\\nBest Model: {best_model_for_current.__class__.__name__}\\n\")\n",
    "    return best_model_for_current"
   ]
  },
  {
   "cell_type": "markdown",
   "id": "924a6c1c",
   "metadata": {},
   "source": [
    "#### Find the best model"
   ]
  },
  {
   "cell_type": "code",
   "execution_count": 30,
   "id": "c9be9e70",
   "metadata": {},
   "outputs": [
    {
     "name": "stdout",
     "output_type": "stream",
     "text": [
      "--- Best model for Azithromycin ---\n",
      "Best Score for RandomForestClassifier: 0.9141526312289979\n",
      "Best Score for SVC: 0.9498976624936848\n",
      "Best Score for KNeighborsClassifier: 0.8420644811789597\n",
      "\n",
      "Best Model: SVC\n",
      "\n",
      "--- Best model for Azithromycin with SMOTE-n ---\n",
      "Best Score for RandomForestClassifier: 0.9766542730299668\n",
      "Best Score for SVC: 0.9778335183129855\n",
      "Best Score for KNeighborsClassifier: 0.9646281908990011\n",
      "\n",
      "Best Model: SVC\n",
      "\n",
      "--- Best model for Ciprofloxacin ---\n",
      "Best Score for RandomForestClassifier: 0.9609649512276711\n",
      "Best Score for SVC: 0.9633857583403656\n",
      "Best Score for KNeighborsClassifier: 0.952162860023835\n",
      "\n",
      "Best Model: SVC\n",
      "\n"
     ]
    }
   ],
   "source": [
    "models = [\n",
    "    RandomForestClassifier(),\n",
    "    SVC(),\n",
    "    KNeighborsClassifier()\n",
    "]\n",
    "\n",
    "param_grids = [\n",
    "    {'n_estimators': [10,50], 'max_depth': [10,20]},\n",
    "    {'C': [1,10,20,30,50], 'kernel': ['linear', 'rbf']},\n",
    "    {'n_neighbors': [3,5,7], 'weights': ['uniform', 'distance']}\n",
    "]\n",
    "\n",
    "\n",
    "print(\"--- Best model for Azithromycin ---\")\n",
    "best_model_azithromycin = find_best_model(models, param_grids, X_train_azithromycin, y_train_azithromycin)\n",
    "\n",
    "print(\"--- Best model for Azithromycin with SMOTE-n ---\")\n",
    "best_model_azithromycin_smote = find_best_model(models, param_grids, X_train_azithromycin_smote, y_train_azithromycin_smote)\n",
    "\n",
    "print(\"--- Best model for Ciprofloxacin ---\")\n",
    "best_model_ciprofloxacin = find_best_model(models, param_grids, X_train_ciprofloxacin, y_train_ciprofloxacin)"
   ]
  },
  {
   "cell_type": "markdown",
   "id": "b8c8ac53",
   "metadata": {},
   "source": [
    "### Predictions"
   ]
  },
  {
   "cell_type": "markdown",
   "id": "a34dd4ca",
   "metadata": {},
   "source": [
    "#### Azithromycin"
   ]
  },
  {
   "cell_type": "code",
   "execution_count": 31,
   "id": "30f5c796",
   "metadata": {},
   "outputs": [],
   "source": [
    "best_model_azithromycin.fit(X_train_azithromycin, y_train_azithromycin)\n",
    "\n",
    "y_pred_train_azithromycin = best_model_azithromycin.predict(X_train_azithromycin)\n",
    "y_pred_test_azithromycin = best_model_azithromycin.predict(X_test_azithromycin)"
   ]
  },
  {
   "cell_type": "markdown",
   "id": "96c71400",
   "metadata": {},
   "source": [
    "#### Azithromycin with SMOTE-n"
   ]
  },
  {
   "cell_type": "code",
   "execution_count": 32,
   "id": "9da5cfc4",
   "metadata": {},
   "outputs": [],
   "source": [
    "best_model_azithromycin_smote.fit(X_train_azithromycin_smote, y_train_azithromycin_smote)\n",
    "\n",
    "y_pred_train_azithromycin_smote = best_model_azithromycin_smote.predict(X_train_azithromycin_smote)\n",
    "y_pred_test_azithromycin_smote = best_model_azithromycin_smote.predict(X_test_azithromycin)"
   ]
  },
  {
   "cell_type": "markdown",
   "id": "e718c4b6",
   "metadata": {},
   "source": [
    "#### Ciprofloxacin"
   ]
  },
  {
   "cell_type": "code",
   "execution_count": 33,
   "id": "2f85c868",
   "metadata": {},
   "outputs": [],
   "source": [
    "best_model_ciprofloxacin.fit(X_train_ciprofloxacin, y_train_ciprofloxacin)\n",
    "\n",
    "y_pred_train_ciprofloxacin = best_model_ciprofloxacin.predict(X_train_ciprofloxacin)\n",
    "y_pred_test_ciprofloxacin = best_model_ciprofloxacin.predict(X_test_ciprofloxacin)"
   ]
  },
  {
   "cell_type": "markdown",
   "id": "6eef76d3",
   "metadata": {},
   "source": [
    "# 4) Performance evaluation"
   ]
  },
  {
   "cell_type": "markdown",
   "id": "31e5c89b-041f-4b4c-991e-ccb43f8cb2d6",
   "metadata": {},
   "source": [
    "#### Azithromycin"
   ]
  },
  {
   "cell_type": "code",
   "execution_count": 34,
   "id": "ece067c8-b179-4e01-b535-b419ec7e21e5",
   "metadata": {},
   "outputs": [
    {
     "name": "stdout",
     "output_type": "stream",
     "text": [
      "Balanced accuracy on training set: 0.9334408182575722 \n",
      "Balanced accuracy on test set: 0.9197286395306197 \n"
     ]
    }
   ],
   "source": [
    "from sklearn.metrics import balanced_accuracy_score as bacc\n",
    "\n",
    "accuracy_train_azithromycin = bacc(y_pred_train_azithromycin, y_train_azithromycin)\n",
    "accuracy_test_azithromycin = bacc(y_pred_test_azithromycin, y_test_azithromycin)\n",
    "\n",
    "print(f\"Balanced accuracy on training set: {accuracy_train_azithromycin} \")\n",
    "print(f\"Balanced accuracy on test set: {accuracy_test_azithromycin} \")"
   ]
  },
  {
   "cell_type": "code",
   "execution_count": 35,
   "id": "490eae75-85f7-4f14-9a5e-2d6d1bbb18db",
   "metadata": {},
   "outputs": [
    {
     "data": {
      "text/plain": [
       "<sklearn.metrics._plot.confusion_matrix.ConfusionMatrixDisplay at 0x2e14a4dd0>"
      ]
     },
     "execution_count": 35,
     "metadata": {},
     "output_type": "execute_result"
    },
    {
     "data": {
      "image/png": "[encoded data removed]",
      "text/plain": [
       "<Figure size 640x480 with 2 Axes>"
      ]
     },
     "metadata": {},
     "output_type": "display_data"
    }
   ],
   "source": [
    "from sklearn.metrics import ConfusionMatrixDisplay\n",
    "\n",
    "ConfusionMatrixDisplay.from_estimator(best_model_azithromycin, X_test_azithromycin, y_test_azithromycin)"
   ]
  },
  {
   "cell_type": "markdown",
   "id": "41ba32bf",
   "metadata": {},
   "source": [
    "#### Azithromycin with SMOTE-n"
   ]
  },
  {
   "cell_type": "code",
   "execution_count": 36,
   "id": "512ba903",
   "metadata": {},
   "outputs": [
    {
     "name": "stdout",
     "output_type": "stream",
     "text": [
      "Balanced accuracy on training set: 0.9917737710340706 \n",
      "Balanced accuracy on test set: 0.9229457110054125 \n"
     ]
    }
   ],
   "source": [
    "accuracy_train_azithromycin_smote = bacc(y_pred_train_azithromycin_smote, y_train_azithromycin_smote)\n",
    "accuracy_test_azithromycin_smote = bacc(y_pred_test_azithromycin_smote, y_test_azithromycin)\n",
    "\n",
    "print(f\"Balanced accuracy on training set: {accuracy_train_azithromycin_smote} \")\n",
    "print(f\"Balanced accuracy on test set: {accuracy_test_azithromycin_smote} \")"
   ]
  },
  {
   "cell_type": "code",
   "execution_count": 37,
   "id": "6aeff673",
   "metadata": {},
   "outputs": [
    {
     "data": {
      "text/plain": [
       "<sklearn.metrics._plot.confusion_matrix.ConfusionMatrixDisplay at 0x2e176cb50>"
      ]
     },
     "execution_count": 37,
     "metadata": {},
     "output_type": "execute_result"
    },
    {
     "data": {
      "image/png": "[encoded data removed]",
      "text/plain": [
       "<Figure size 640x480 with 2 Axes>"
      ]
     },
     "metadata": {},
     "output_type": "display_data"
    }
   ],
   "source": [
    "from sklearn.metrics import ConfusionMatrixDisplay\n",
    "\n",
    "ConfusionMatrixDisplay.from_estimator(best_model_azithromycin_smote, X_test_azithromycin, y_test_azithromycin)"
   ]
  },
  {
   "cell_type": "markdown",
   "id": "e83fd266-c453-4a19-84b3-cd0fdd111342",
   "metadata": {},
   "source": [
    "#### Ciprofloxacin"
   ]
  },
  {
   "cell_type": "code",
   "execution_count": 38,
   "id": "50992b95-7dad-4941-933b-08340e8fd52b",
   "metadata": {},
   "outputs": [
    {
     "name": "stdout",
     "output_type": "stream",
     "text": [
      "Balanced accuracy on training set: 0.9972109507289473 \n",
      "Balanced accuracy on test set: 0.9699213457775102 \n"
     ]
    }
   ],
   "source": [
    "accuracy_train_ciprofloxacin = bacc(y_pred_train_ciprofloxacin, y_train_ciprofloxacin)\n",
    "accuracy_test_ciprofloxacin = bacc(y_pred_test_ciprofloxacin, y_test_ciprofloxacin)\n",
    "\n",
    "print(f\"Balanced accuracy on training set: {accuracy_train_ciprofloxacin} \")\n",
    "print(f\"Balanced accuracy on test set: {accuracy_test_ciprofloxacin} \")"
   ]
  },
  {
   "cell_type": "code",
   "execution_count": 39,
   "id": "3a778622-b244-489e-a576-a2f3a1ff91b4",
   "metadata": {},
   "outputs": [
    {
     "data": {
      "text/plain": [
       "<sklearn.metrics._plot.confusion_matrix.ConfusionMatrixDisplay at 0x2f2e8aad0>"
      ]
     },
     "execution_count": 39,
     "metadata": {},
     "output_type": "execute_result"
    },
    {
     "data": {
      "image/png": "[encoded data removed]",
      "text/plain": [
       "<Figure size 640x480 with 2 Axes>"
      ]
     },
     "metadata": {},
     "output_type": "display_data"
    }
   ],
   "source": [
    "ConfusionMatrixDisplay.from_estimator(best_model_ciprofloxacin, X_test_ciprofloxacin, y_test_ciprofloxacin)"
   ]
  },
  {
   "cell_type": "code",
   "execution_count": null,
   "id": "79d4eace-6e03-43f8-8429-c7967aa43cef",
   "metadata": {},
   "outputs": [],
   "source": []
  }
 ],
 "metadata": {
  "kernelspec": {
   "display_name": "Python 3 (ipykernel)",
   "language": "python",
   "name": "python3"
  },
  "language_info": {
   "codemirror_mode": {
    "name": "ipython",
    "version": 3
   },
   "file_extension": ".py",
   "mimetype": "text/x-python",
   "name": "python",
   "nbconvert_exporter": "python",
   "pygments_lexer": "ipython3",
   "version": "3.11.5"
  }
 },
 "nbformat": 4,
 "nbformat_minor": 5
}
