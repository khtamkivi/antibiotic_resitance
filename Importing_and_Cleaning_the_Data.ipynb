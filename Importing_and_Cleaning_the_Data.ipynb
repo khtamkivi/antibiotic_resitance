{
 "cells": [
  {
   "cell_type": "code",
   "execution_count": 1,
   "id": "5e72acc1",
   "metadata": {},
   "outputs": [],
   "source": [
    "import pandas as pd\n",
    "import numpy as np\n",
    "import matplotlib.pyplot as plt"
   ]
  },
  {
   "cell_type": "markdown",
   "id": "e324e535-86d4-442d-ab3f-084b48e71c05",
   "metadata": {},
   "source": [
    "### Resistance data"
   ]
  },
  {
   "cell_type": "code",
   "execution_count": 2,
   "id": "e001aead",
   "metadata": {},
   "outputs": [],
   "source": [
    "resistance_data = pd.read_csv('antibio_dataset/resist.csv')"
   ]
  },
  {
   "cell_type": "code",
   "execution_count": 4,
   "id": "2211c8f2-918f-4f62-a800-85d8b9978b60",
   "metadata": {},
   "outputs": [
    {
     "data": {
      "text/plain": [
       "(3786, 4)"
      ]
     },
     "execution_count": 4,
     "metadata": {},
     "output_type": "execute_result"
    }
   ],
   "source": [
    "resistance_data.shape"
   ]
  },
  {
   "cell_type": "markdown",
   "id": "c0245200-b522-4a84-8e7a-bce0814af418",
   "metadata": {},
   "source": [
    "Missing values per column:"
   ]
  },
  {
   "cell_type": "code",
   "execution_count": 6,
   "id": "963e4426-0b83-431c-bba6-10cfc2b7f788",
   "metadata": {},
   "outputs": [
    {
     "data": {
      "text/plain": [
       "Sample_ID      0\n",
       "azm_sr       308\n",
       "cip_sr       698\n",
       "cfx_sr       385\n",
       "dtype: int64"
      ]
     },
     "execution_count": 6,
     "metadata": {},
     "output_type": "execute_result"
    }
   ],
   "source": [
    "resistance_data.isna().sum()"
   ]
  },
  {
   "cell_type": "markdown",
   "id": "48ef45d9-f565-4fa2-97da-c0480364ec55",
   "metadata": {},
   "source": [
    "Proportion of missing values per column:"
   ]
  },
  {
   "cell_type": "code",
   "execution_count": 8,
   "id": "88f745e6-a66c-4c8a-9df8-645d7720fecb",
   "metadata": {},
   "outputs": [
    {
     "data": {
      "text/plain": [
       "Sample_ID    0.000000\n",
       "azm_sr       0.081352\n",
       "cip_sr       0.184363\n",
       "cfx_sr       0.101690\n",
       "dtype: float64"
      ]
     },
     "execution_count": 8,
     "metadata": {},
     "output_type": "execute_result"
    }
   ],
   "source": [
    "resistance_data.isna().sum() / len(resistance_data)"
   ]
  },
  {
   "cell_type": "markdown",
   "id": "fa6e66b6-8b79-412e-99e9-3aa3c100930b",
   "metadata": {},
   "source": [
    "Although the share of missing values per column is not significantly high, one would still aim to keep as much data points as possible for the prediction analysis. Thus imputation of missing values would be a possible step but in this case the authors hold no information about the biological similarity of the samples. Not being certain if Sample_ID string similarity would also translate into biological dimilarity between the samples, authors decided not to impute the missing values without additional similarity measures and omit the samples that have missing values from the analysis entirely."
   ]
  },
  {
   "cell_type": "code",
   "execution_count": 16,
   "id": "b78a5959-8da5-4a72-9774-42d9c1808488",
   "metadata": {},
   "outputs": [],
   "source": [
    "azithromycin_res = resistance_data[resistance_data['azm_sr'].isna() != True][['Sample_ID','azm_sr']]\n",
    "cefixime_res = resistance_data[resistance_data['cfx_sr'].isna() != True][['Sample_ID','cfx_sr']]\n",
    "ciprofloxacin_res = resistance_data[resistance_data['cip_sr'].isna() != True][['Sample_ID','cip_sr']]"
   ]
  },
  {
   "cell_type": "code",
   "execution_count": 21,
   "id": "ae72184e-9a98-416a-97dd-75544beb587c",
   "metadata": {},
   "outputs": [
    {
     "name": "stdout",
     "output_type": "stream",
     "text": [
      "Azithromycin: 3478 samples\n",
      "Cefixime: 3401 samples\n",
      "Ciprofloxacin: 3088 samples\n"
     ]
    }
   ],
   "source": [
    "print(f\"Azithromycin: {azithromycin_res.shape[0]} samples\")\n",
    "print(f\"Cefixime: {cefixime_res.shape[0]} samples\")\n",
    "print(f\"Ciprofloxacin: {ciprofloxacin_res.shape[0]} samples\")"
   ]
  },
  {
   "cell_type": "code",
   "execution_count": null,
   "id": "6a247bd0-f0fe-45b9-900b-485687da93a1",
   "metadata": {},
   "outputs": [],
   "source": []
  },
  {
   "cell_type": "markdown",
   "id": "0c840d95-cb58-457d-86eb-58cac6159c42",
   "metadata": {},
   "source": [
    "### K-mer data"
   ]
  },
  {
   "cell_type": "code",
   "execution_count": 61,
   "id": "2e18940e-2162-4468-a3a2-0a1685fe138e",
   "metadata": {},
   "outputs": [],
   "source": [
    "kmers_azithromycin = pd.read_csv('antibio_dataset/kmers_azithromycin.tsv', sep=\"\\t\")\n",
    "kmers_cefixime = pd.read_csv('antibio_dataset/kmers_cefixime.tsv', sep=\"\\t\")\n",
    "kmers_ciprofloxacin = pd.read_csv('antibio_dataset/kmers_ciprofloxacin.tsv', sep=\"\\t\")"
   ]
  },
  {
   "cell_type": "code",
   "execution_count": 62,
   "id": "f668e776-5643-4a74-a4a8-e2f0594b0eda",
   "metadata": {},
   "outputs": [
    {
     "data": {
      "text/html": [
       "<div>\n",
       "<style scoped>\n",
       "    .dataframe tbody tr th:only-of-type {\n",
       "        vertical-align: middle;\n",
       "    }\n",
       "\n",
       "    .dataframe tbody tr th {\n",
       "        vertical-align: top;\n",
       "    }\n",
       "\n",
       "    .dataframe thead th {\n",
       "        text-align: right;\n",
       "    }\n",
       "</style>\n",
       "<table border=\"1\" class=\"dataframe\">\n",
       "  <thead>\n",
       "    <tr style=\"text-align: right;\">\n",
       "      <th></th>\n",
       "      <th>pattern_id</th>\n",
       "      <th>ERR1549286</th>\n",
       "      <th>ERR1549290</th>\n",
       "      <th>ERR1549291</th>\n",
       "      <th>ERR1549287</th>\n",
       "      <th>ERR1549288</th>\n",
       "      <th>ERR1549299</th>\n",
       "      <th>ERR1549292</th>\n",
       "      <th>ERR1549298</th>\n",
       "      <th>ERR1549296</th>\n",
       "      <th>...</th>\n",
       "      <th>ERR2172345</th>\n",
       "      <th>ERR2172346</th>\n",
       "      <th>ERR2172347</th>\n",
       "      <th>ERR2172348</th>\n",
       "      <th>ERR2172349</th>\n",
       "      <th>ERR2172350</th>\n",
       "      <th>ERR2172351</th>\n",
       "      <th>ERR2172352</th>\n",
       "      <th>ERR2172353</th>\n",
       "      <th>ERR2172354</th>\n",
       "    </tr>\n",
       "  </thead>\n",
       "  <tbody>\n",
       "    <tr>\n",
       "      <th>0</th>\n",
       "      <td>CTTAACATATTTGCCTTTGATTTTTGAAGAAGCTGCCACGCCGGCAG</td>\n",
       "      <td>0</td>\n",
       "      <td>0</td>\n",
       "      <td>0</td>\n",
       "      <td>0</td>\n",
       "      <td>0</td>\n",
       "      <td>0</td>\n",
       "      <td>0</td>\n",
       "      <td>0</td>\n",
       "      <td>0</td>\n",
       "      <td>...</td>\n",
       "      <td>0</td>\n",
       "      <td>0</td>\n",
       "      <td>0</td>\n",
       "      <td>0</td>\n",
       "      <td>0</td>\n",
       "      <td>0</td>\n",
       "      <td>0</td>\n",
       "      <td>1</td>\n",
       "      <td>0</td>\n",
       "      <td>0</td>\n",
       "    </tr>\n",
       "    <tr>\n",
       "      <th>1</th>\n",
       "      <td>TACCGTAACCGGCAATGCGGATATTACGGTC</td>\n",
       "      <td>0</td>\n",
       "      <td>0</td>\n",
       "      <td>0</td>\n",
       "      <td>0</td>\n",
       "      <td>0</td>\n",
       "      <td>0</td>\n",
       "      <td>0</td>\n",
       "      <td>0</td>\n",
       "      <td>0</td>\n",
       "      <td>...</td>\n",
       "      <td>0</td>\n",
       "      <td>0</td>\n",
       "      <td>0</td>\n",
       "      <td>0</td>\n",
       "      <td>0</td>\n",
       "      <td>0</td>\n",
       "      <td>0</td>\n",
       "      <td>0</td>\n",
       "      <td>0</td>\n",
       "      <td>0</td>\n",
       "    </tr>\n",
       "    <tr>\n",
       "      <th>2</th>\n",
       "      <td>CAGACGGCATTTTTTTTGCGTTTTTCGGGAGG</td>\n",
       "      <td>0</td>\n",
       "      <td>0</td>\n",
       "      <td>0</td>\n",
       "      <td>0</td>\n",
       "      <td>0</td>\n",
       "      <td>0</td>\n",
       "      <td>0</td>\n",
       "      <td>0</td>\n",
       "      <td>0</td>\n",
       "      <td>...</td>\n",
       "      <td>0</td>\n",
       "      <td>1</td>\n",
       "      <td>0</td>\n",
       "      <td>0</td>\n",
       "      <td>0</td>\n",
       "      <td>0</td>\n",
       "      <td>0</td>\n",
       "      <td>0</td>\n",
       "      <td>0</td>\n",
       "      <td>0</td>\n",
       "    </tr>\n",
       "    <tr>\n",
       "      <th>3</th>\n",
       "      <td>AACGGGTTTTCAGACGGCATTCGATATCGGGACG</td>\n",
       "      <td>0</td>\n",
       "      <td>0</td>\n",
       "      <td>0</td>\n",
       "      <td>0</td>\n",
       "      <td>0</td>\n",
       "      <td>0</td>\n",
       "      <td>0</td>\n",
       "      <td>0</td>\n",
       "      <td>0</td>\n",
       "      <td>...</td>\n",
       "      <td>0</td>\n",
       "      <td>0</td>\n",
       "      <td>0</td>\n",
       "      <td>0</td>\n",
       "      <td>0</td>\n",
       "      <td>0</td>\n",
       "      <td>0</td>\n",
       "      <td>0</td>\n",
       "      <td>0</td>\n",
       "      <td>0</td>\n",
       "    </tr>\n",
       "    <tr>\n",
       "      <th>4</th>\n",
       "      <td>CCAAAAATTACCCGCGTTGACGTAGCTAAAGA</td>\n",
       "      <td>0</td>\n",
       "      <td>0</td>\n",
       "      <td>0</td>\n",
       "      <td>0</td>\n",
       "      <td>0</td>\n",
       "      <td>0</td>\n",
       "      <td>0</td>\n",
       "      <td>0</td>\n",
       "      <td>0</td>\n",
       "      <td>...</td>\n",
       "      <td>0</td>\n",
       "      <td>0</td>\n",
       "      <td>0</td>\n",
       "      <td>0</td>\n",
       "      <td>0</td>\n",
       "      <td>0</td>\n",
       "      <td>0</td>\n",
       "      <td>0</td>\n",
       "      <td>0</td>\n",
       "      <td>0</td>\n",
       "    </tr>\n",
       "  </tbody>\n",
       "</table>\n",
       "<p>5 rows × 3972 columns</p>\n",
       "</div>"
      ],
      "text/plain": [
       "                                        pattern_id  ERR1549286  ERR1549290  \\\n",
       "0  CTTAACATATTTGCCTTTGATTTTTGAAGAAGCTGCCACGCCGGCAG           0           0   \n",
       "1                  TACCGTAACCGGCAATGCGGATATTACGGTC           0           0   \n",
       "2                 CAGACGGCATTTTTTTTGCGTTTTTCGGGAGG           0           0   \n",
       "3               AACGGGTTTTCAGACGGCATTCGATATCGGGACG           0           0   \n",
       "4                 CCAAAAATTACCCGCGTTGACGTAGCTAAAGA           0           0   \n",
       "\n",
       "   ERR1549291  ERR1549287  ERR1549288  ERR1549299  ERR1549292  ERR1549298  \\\n",
       "0           0           0           0           0           0           0   \n",
       "1           0           0           0           0           0           0   \n",
       "2           0           0           0           0           0           0   \n",
       "3           0           0           0           0           0           0   \n",
       "4           0           0           0           0           0           0   \n",
       "\n",
       "   ERR1549296  ...  ERR2172345  ERR2172346  ERR2172347  ERR2172348  \\\n",
       "0           0  ...           0           0           0           0   \n",
       "1           0  ...           0           0           0           0   \n",
       "2           0  ...           0           1           0           0   \n",
       "3           0  ...           0           0           0           0   \n",
       "4           0  ...           0           0           0           0   \n",
       "\n",
       "   ERR2172349  ERR2172350  ERR2172351  ERR2172352  ERR2172353  ERR2172354  \n",
       "0           0           0           0           1           0           0  \n",
       "1           0           0           0           0           0           0  \n",
       "2           0           0           0           0           0           0  \n",
       "3           0           0           0           0           0           0  \n",
       "4           0           0           0           0           0           0  \n",
       "\n",
       "[5 rows x 3972 columns]"
      ]
     },
     "execution_count": 62,
     "metadata": {},
     "output_type": "execute_result"
    }
   ],
   "source": [
    "kmers_azithromycin.head()"
   ]
  },
  {
   "cell_type": "markdown",
   "id": "9456893f-4f3d-4f55-92d7-1fa0f7874390",
   "metadata": {},
   "source": [
    "In order to merge the information of the resistance data tables and k-mer data tables, the k-mer tables need to be transposed (sample IDs in rows and patterns in columns)."
   ]
  },
  {
   "cell_type": "markdown",
   "id": "c475e51c-0639-4ac2-ab96-08239de53dd6",
   "metadata": {},
   "source": [
    "#### Azithromycin"
   ]
  },
  {
   "cell_type": "code",
   "execution_count": 63,
   "id": "aeee1eb0-fa66-45f2-9372-6e871559dff8",
   "metadata": {},
   "outputs": [],
   "source": [
    "kmers_azithromycin = kmers_azithromycin.transpose()\n",
    "\n",
    "#Making the first row of the transposed DataFrame as column headers\n",
    "new_header = kmers_azithromycin.iloc[0]\n",
    "kmers_azithromycin = kmers_azithromycin[1:] \n",
    "kmers_azithromycin.columns = new_header\n",
    "\n",
    "#Making the structure of column names similar to the structure of resistance tables\n",
    "kmers_azithromycin = kmers_azithromycin.reset_index()\n",
    "kmers_azithromycin = kmers_azithromycin.rename(columns={'index': 'Sample_ID'})\n",
    "kmers_azithromycin.index.name = None"
   ]
  },
  {
   "cell_type": "markdown",
   "id": "ffbfb3d8-cff8-47c8-8b66-0e65e0ff49f4",
   "metadata": {},
   "source": [
    "#### Cefixime"
   ]
  },
  {
   "cell_type": "code",
   "execution_count": 66,
   "id": "21434d8e-0e85-4d15-a0a9-2684b07d8442",
   "metadata": {},
   "outputs": [],
   "source": [
    "kmers_cefixime = kmers_cefixime.transpose()\n",
    "\n",
    "#Making the first row of the transposed DataFrame as column headers\n",
    "new_header = kmers_cefixime.iloc[0]\n",
    "kmers_cefixime = kmers_cefixime[1:] \n",
    "kmers_cefixime.columns = new_header\n",
    "\n",
    "#Making the structure of column names similar to the structure of resistance tables\n",
    "kmers_cefixime = kmers_cefixime.reset_index()\n",
    "kmers_cefixime = kmers_cefixime.rename(columns={'index': 'Sample_ID'})\n",
    "kmers_cefixime.index.name = None"
   ]
  },
  {
   "cell_type": "markdown",
   "id": "0ff34bd3-c5cb-4759-8fbd-d0fccebbb411",
   "metadata": {},
   "source": [
    "#### Ciprofloxacin"
   ]
  },
  {
   "cell_type": "code",
   "execution_count": 68,
   "id": "b0005156-374b-4201-b88d-877fa07eb45a",
   "metadata": {},
   "outputs": [],
   "source": [
    "kmers_ciprofloxacin = kmers_ciprofloxacin.transpose()\n",
    "\n",
    "#Making the first row of the transposed DataFrame as column headers\n",
    "new_header = kmers_ciprofloxacin.iloc[0]\n",
    "kmers_ciprofloxacin = kmers_ciprofloxacin[1:] \n",
    "kmers_ciprofloxacin.columns = new_header\n",
    "\n",
    "#Making the structure of column names similar to the structure of resistance tables\n",
    "kmers_ciprofloxacin = kmers_ciprofloxacin.reset_index()\n",
    "kmers_ciprofloxacin = kmers_ciprofloxacin.rename(columns={'index': 'Sample_ID'})\n",
    "kmers_ciprofloxacin.index.name = None"
   ]
  },
  {
   "cell_type": "markdown",
   "id": "ef4b35c9-6e3a-46c0-b709-794e43ff9553",
   "metadata": {},
   "source": []
  },
  {
   "cell_type": "markdown",
   "id": "16c36cb1-40a1-4d69-92d4-420dc9478c76",
   "metadata": {},
   "source": [
    "### Merging the data"
   ]
  },
  {
   "cell_type": "code",
   "execution_count": 72,
   "id": "a72e8e60-88ec-4f5b-b6fe-98143e487653",
   "metadata": {},
   "outputs": [],
   "source": [
    "azithromycin_data = kmers_azithromycin.merge(azithromycin_res, how = 'right', on = 'Sample_ID')\n",
    "cefixime_data = kmers_cefixime.merge(cefixime_res, how = 'right', on = 'Sample_ID')\n",
    "ciprofloxacin_data = kmers_ciprofloxacin.merge(ciprofloxacin_res, how = 'right', on = 'Sample_ID')"
   ]
  },
  {
   "cell_type": "code",
   "execution_count": null,
   "id": "43287da1-b52b-48fd-968d-c2ff452637bb",
   "metadata": {},
   "outputs": [],
   "source": []
  }
 ],
 "metadata": {
  "kernelspec": {
   "display_name": "Python 3 (ipykernel)",
   "language": "python",
   "name": "python3"
  },
  "language_info": {
   "codemirror_mode": {
    "name": "ipython",
    "version": 3
   },
   "file_extension": ".py",
   "mimetype": "text/x-python",
   "name": "python",
   "nbconvert_exporter": "python",
   "pygments_lexer": "ipython3",
   "version": "3.11.5"
  }
 },
 "nbformat": 4,
 "nbformat_minor": 5
}
